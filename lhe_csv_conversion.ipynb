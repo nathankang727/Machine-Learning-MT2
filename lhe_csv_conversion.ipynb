{
 "cells": [
  {
   "cell_type": "markdown",
   "metadata": {},
   "source": [
    "# MadGraph Energy Spectrum Conversion"
   ]
  },
  {
   "cell_type": "markdown",
   "metadata": {},
   "source": [
    "## Description"
   ]
  },
  {
   "cell_type": "markdown",
   "metadata": {},
   "source": [
    "This notebook\n",
    "\n",
    "1. Copies and renames all `.lhe` files to their immediate parent directory \n",
    "\n",
    "        Home\\Temp\\test.lhe    -----this-code--->    Home\\Temp\\test.lhe\n",
    "                                                             |Temp.lhe\n",
    "\n",
    "1. Converts `.lhe` files to `.csv` files in their respective locations\n",
    "\n",
    "        Home\\Temp\\test.lhe    -----this-code--->    Home\\Temp\\test.lhe\n",
    "                                                             |Temp.csv\n",
    "\n",
    "2. Plots a histogram of those energies from the .csv\n",
    "\n",
    "3. Generates a probability density function from the histogram of outgoing energies"
   ]
  },
  {
   "cell_type": "markdown",
   "metadata": {
    "heading_collapsed": true
   },
   "source": [
    "## Why not use BeautifulSoup?"
   ]
  },
  {
   "cell_type": "markdown",
   "metadata": {
    "hidden": true
   },
   "source": [
    "BeautifulSoup is a package that is built for traversing `.html` files. This makes it extremely easy to locate the relevant lines in the `.lhe` files that correspond to the particle events we care about. **However**, Beautifulsoup interprets all the information between the `<event> ... </event>` tags as a **single** line. This makes extracting information about a particle incredibly difficult. I have since given up on BeautifulSoup and implemented my own logic to solve this problem."
   ]
  },
  {
   "cell_type": "markdown",
   "metadata": {},
   "source": [
    "## Before Running this notebook"
   ]
  },
  {
   "cell_type": "markdown",
   "metadata": {},
   "source": [
    "There are a few things to double check on your machine before running this notebook.\n",
    "\n",
    "1. This notebook does *not* provide a way to unzip the files produced from MadGraph. You will have to extract the contents manually.\n",
    "\n",
    "    (Detailed Explanation) For each run, Madgraph produces a folder with the following contents:\n",
    "\n",
    "        \\Path-to-MadGraph\\Process-You-Care-About\\\n",
    "        |\n",
    "        |--- run_##\\\n",
    "        |---|--- run##_run-tag-name_banner.txt\n",
    "        |   |--- unweighted_events.lhe.gz\n",
    "        |\n",
    "The `unweightedevents.lhe.gz` file is some sort of zipped file. Extract the contents inside of its parent folder. After extracting, your `run_##` folder should look like:\n",
    "\n",
    "        \\Path-to-MadGraph\\Process-You-Care-About\\\n",
    "        |\n",
    "        |--- run_##\\\n",
    "        |---|--- run##_run-tag-name_banner.txt\n",
    "        |   |--- unweighted_events.lhe.gz\n",
    "        |   |--- unweighted_events.lhe\n",
    "        \n",
    "2. If your model has any particles not defined in the PDG, you will need to manually input their PDG codes into the `PID` dictionary. \n",
    "\n",
    "3. The conversion process assumes the following file directory structure:\n",
    "\n",
    "        \\Path-to-this-notebook\\\n",
    "        | \n",
    "        |--- Data\\\n",
    "        |\n",
    "        |---|--- lhe\\\n",
    "        |---|---|--- date\\\n",
    "        |---|---|---|--- run_##\\\n",
    "        |---|---|---|---|--- run##_run-tag-name_banner.txt\n",
    "        |---|---|---|---|--- unweighted_events.lhe.gz\n",
    "        |---|---|---|---|--- unweighted_events.lhe\n",
    "        |---|---|---|--- run_##\\\n",
    "        |---|---|---|---|--- run##_run-tag-name_banner.txt\n",
    "        |---|---|---|---|--- unweighted_events.lhe.gz\n",
    "        |---|---|---|---|--- unweighted_events.lhe\n",
    "        |\n",
    "        |---|--- csv\\\n",
    "        |---|---|--- date\\\n",
    "        |        \n",
    "        \n",
    " `lhe` files will be sourced from the `lhe` branch and will be converted and exported into the `csv` branch in their respective folders.\n",
    " \n",
    "4. `date` must be the direct parent directory of the lhe files you want to convert, not the grandparent or great-grandparent directory.\n",
    "\n",
    "5. It is only necessary to unzip each `.lhe` file from the `.gz` within its own `run_##\\` folder. You do not need to move the `.lhe` file anywhere."
   ]
  },
  {
   "cell_type": "markdown",
   "metadata": {},
   "source": [
    "## Imports"
   ]
  },
  {
   "cell_type": "markdown",
   "metadata": {},
   "source": [
    "`PID` is a dictionary whose keys are the particle names and values are the particle ID's\n",
    "\n",
    "`get_key(my_dict, val)` is a function whose input is a dictionary and value and that returns the key from `my_dict` corresponding to `val`"
   ]
  },
  {
   "cell_type": "code",
   "execution_count": 1,
   "metadata": {
    "ExecuteTime": {
     "end_time": "2022-09-19T19:43:57.757209Z",
     "start_time": "2022-09-19T19:43:54.937353Z"
    },
    "code_folding": [
     62,
     68,
     85
    ]
   },
   "outputs": [
    {
     "name": "stdout",
     "output_type": "stream",
     "text": [
      "Complete\n"
     ]
    }
   ],
   "source": [
    "import numpy as np\n",
    "\n",
    "import os\n",
    "import glob\n",
    "import pandas as pd\n",
    "import matplotlib.pyplot as plt\n",
    "from scipy import interpolate\n",
    "import scipy.integrate as integrate\n",
    "import shutil\n",
    "\n",
    "\n",
    "%matplotlib inline\n",
    "\n",
    "def eventFilePath(fileName):\n",
    "    return 'MadGraph_Events/lhe/' + fileName\n",
    "\n",
    "def CSVFilePath(fileName):\n",
    "    return 'MadGraph_Events/csv/' + fileName\n",
    "\n",
    "PID = {\n",
    "    'down':1,\n",
    "    'Adown':-1,\n",
    "    'up':2,\n",
    "    'Aup':-2,\n",
    "    'strange':3,\n",
    "    'Astrange':-3,\n",
    "    'charm':4,\n",
    "    'Acharm':-4,\n",
    "    'bottom':5,\n",
    "    'Abottom':-5,\n",
    "    'top':6,\n",
    "    'Atop':-6,\n",
    "    'bPrime':7,\n",
    "    'AbPrime':-7,\n",
    "    'tPrime':8,\n",
    "    'AtPrime':-8,\n",
    "    'eMinus':11,\n",
    "    'AeMinus':-11,\n",
    "    'nuE':12,\n",
    "    'AnuE':-12,\n",
    "    'muMinus':13,\n",
    "    'AmuMinus':-13,\n",
    "    'nuMu':14,\n",
    "    'AnuMu':-14,\n",
    "    'tauMinus':15,\n",
    "    'AtauMinus':-15,\n",
    "    'nuTau':16,\n",
    "    'AnuTau':-16,\n",
    "    'tauPrime':17,\n",
    "    'AtauPrime':-17,\n",
    "    'nuTauPrime':18,\n",
    "    'AnuTauPrime':-18,\n",
    "    'gluon':21,\n",
    "    'photon':22,\n",
    "    'Z':23,\n",
    "    'W+':24,\n",
    "    'higgs':25,\n",
    "    'chi':100,\n",
    "    'Achi':-100,\n",
    "    'phi':101\n",
    "}\n",
    "\n",
    "def get_key(my_dict,val): \n",
    "    for key, value in my_dict.items(): \n",
    "         if val == value: \n",
    "            return key \n",
    "    return \"Key doesn't exist\"\n",
    "\n",
    "def lheFileRename(inputDir,outputType = '.lhe'):\n",
    "    filesVect = []\n",
    "    for root, dirs, files in os.walk(inputDir):\n",
    "        for f in files:\n",
    "            if f.endswith('.lhe'):\n",
    "                filesVect.append(f)\n",
    "                path = os.path.join(root, f)\n",
    "                pathSplit = path.split(\"\\\\\")\n",
    "                tempPath = ''\n",
    "                for chunk in pathSplit[0:-1]:\n",
    "                    tempPath = tempPath + chunk + \"\\\\\"\n",
    "                newPath = tempPath+pathSplit[-2]+'.lhe'\n",
    "                try:\n",
    "                    shutil.copy(path,newPath)\n",
    "                except shutil.SameFileError:\n",
    "                    continue\n",
    "                    \n",
    "def findFiles(fullPath,filetype):\n",
    "    filesVect = []\n",
    "    for root, dirs, files in os.walk(fullPath):\n",
    "        for f in files:\n",
    "            if (f.endswith(filetype) and (f[:-4] != 'unweighted_events')):\n",
    "                fullPath = os.path.join(root, f)\n",
    "                filesVect.append(fullPath)\n",
    "    return filesVect\n",
    "\n",
    "print ('Complete')"
   ]
  },
  {
   "cell_type": "markdown",
   "metadata": {
    "collapsed": true
   },
   "source": [
    "## Accessing LHE Data"
   ]
  },
  {
   "cell_type": "markdown",
   "metadata": {},
   "source": [
    "Here is what looks to be the original scheme to these files: [LHE File](https://arxiv.org/pdf/hep-ph/0109068.pdf)\n",
    "\n",
    "```\n",
    "<event>\n",
    "# Particles, Event ID, Event Weight, Scale in GeV, QED Coupling, QCD Coupling\n",
    "\n",
    "    PID, State, (Parent1, Parent2), (CF, ACF), (Px, Py, Pz, E, Mass), cTau, SpinProj\n",
    "    \n",
    "</event>\n",
    "```\n",
    "The key is:\n",
    " - `PID`: Particle ID assigned by the PDG. [Reference here](http://pdg.lbl.gov/2019/reviews/rpp2019-rev-monte-carlo-numbering.pdf)\n",
    " \n",
    " - `State`:\n",
    " \n",
    " \n",
    "      -1 = Initial\n",
    "      +1 = Final\n",
    "      -2 = Intermediate space-like propagator, $x$ and $Q^2$ preserved\n",
    "      +2 = Intermediate resonance, mass preserved\n",
    "      +3 = Intermediate resonance, for documentation only\n",
    "      -9 = Incoming beam at $t = -\\infty$\n",
    " \n",
    " - `Parent1/ Parent2`: Identify where the particle came from. These are NOT the PDG particle naming scheme. Rather, these assign the incomming particles as `1` and `2`.\n",
    "         \n",
    " - `CF/ ACF`: (Anti)Color Flow, used to computate hadronization later down the computation chain.\n",
    " \n",
    " - `Px, Py, Pz, E, M`: Particle 4-vector and mass ($M$) all in GeV. Note that this mass is the reconstructed particle mass: $M^2(\\vec{p}) = E^2 - \\vec{p}\\cdot \\vec{p}$, NOT necessarily on shell.\n",
    " \n",
    " - `cTau`: Particle lifetime in mm. Distance from production to decay. Combined with momentum information, this is enough to determine vertex location\n",
    " \n",
    " - `SpinProj`: Cosine of the angle between the spin vector of the particle in question and 3-momentum of the decaying particle"
   ]
  },
  {
   "cell_type": "markdown",
   "metadata": {
    "ExecuteTime": {
     "start_time": "2020-02-04T19:47:04.741Z"
    },
    "collapsed": true
   },
   "source": [
    "# LHE to CSV conversion"
   ]
  },
  {
   "cell_type": "markdown",
   "metadata": {
    "ExecuteTime": {
     "end_time": "2021-05-04T22:08:16.252848Z",
     "start_time": "2021-05-04T22:08:16.244876Z"
    },
    "heading_collapsed": true
   },
   "source": [
    "### `.lhe` file Contents"
   ]
  },
  {
   "cell_type": "markdown",
   "metadata": {
    "ExecuteTime": {
     "end_time": "2020-02-04T20:36:02.105742Z",
     "start_time": "2020-02-04T20:36:02.093379Z"
    },
    "hidden": true
   },
   "source": [
    "This cell reads in a `.lhe` file and converts it to `.csv`. Note that information about the event ID is NOT saved.\n",
    "\n",
    "The `.csv` has columns labeled as:\n",
    "\n",
    "1. `RawNo`: This is the line number from the original `.lhe` file \n",
    "2. `PID`: Particle ID inaccordance with the PDG scheme\n",
    "3. `State`:\n",
    "4. `Parent1`:\n",
    "5. `Parent2`:\n",
    "6. `CF`:\n",
    "7. `ACF`:\n",
    "8. `Px: (*, Px, *, *)`\n",
    "9. `Py: (*, *, Py, *)`\n",
    "10. `Pz: (*, *, *, Pz)`\n",
    "11. `E: (E, *, *, *)` \n",
    "12. `M`: Particle Mass\n",
    "13. `cTau`:\n",
    "14. `SpinProj`:\n",
    "\n",
    "There is no need to modify by hand the `.lhe` file that `MADGRAPH` outputs, just read it in directly here."
   ]
  },
  {
   "cell_type": "markdown",
   "metadata": {},
   "source": [
    "### Automated File Traversal and Conversion"
   ]
  },
  {
   "cell_type": "markdown",
   "metadata": {},
   "source": [
    "For this to work properly, the output folders must have already been created on your machine."
   ]
  },
  {
   "cell_type": "markdown",
   "metadata": {},
   "source": [
    "TO DO: \n",
    "\n",
    "1. Add path to lhe file name\n",
    "1. add sanity check if the output files already exist in the output directory"
   ]
  },
  {
   "cell_type": "code",
   "execution_count": 3,
   "metadata": {
    "ExecuteTime": {
     "end_time": "2022-09-19T19:44:41.192192Z",
     "start_time": "2022-09-19T19:44:32.275075Z"
    }
   },
   "outputs": [
    {
     "name": "stdout",
     "output_type": "stream",
     "text": [
      "C:\\Users\\asg00\\Desktop\\Machine Learning MT2\\Data\\lhe\\9.19.22\\run_02\\run_02.lhe\n",
      "C:\\Users\\asg00\\Desktop\\Machine Learning MT2\\Data\\lhe\\9.19.22\\run_03\\run_03.lhe\n",
      "C:\\Users\\asg00\\Desktop\\Machine Learning MT2\\Data\\lhe\\9.19.22\\run_04\\run_04.lhe\n",
      "You are about to convert 3 files in \n",
      "    C:\\Users\\asg00\\Desktop\\Machine Learning MT2\\Data\\lhe\\9.19.22\\\n",
      "Proceed? [y,n]y\n",
      "Conversion in progress...\n",
      "C:\\Users\\asg00\\Desktop\\Machine Learning MT2\\Data\\csv\\9.19.22\\run_02.csv converted\n",
      "C:\\Users\\asg00\\Desktop\\Machine Learning MT2\\Data\\csv\\9.19.22\\run_03.csv converted\n",
      "C:\\Users\\asg00\\Desktop\\Machine Learning MT2\\Data\\csv\\9.19.22\\run_04.csv converted\n",
      "Complete\n"
     ]
    }
   ],
   "source": [
    "# The date is the next-to-bottom level in the path\n",
    "date = '9.19.22\\\\'\n",
    "\n",
    "# The baseDir is specific to the user\n",
    "baseDir   = 'C:\\\\Users\\\\asg00\\\\Desktop\\\\Machine Learning MT2\\\\Data\\\\'\n",
    "inputDir  = baseDir + 'lhe\\\\' + date\n",
    "outputDir = baseDir + 'csv\\\\' + date\n",
    "\n",
    "lheFileRename(inputDir,outputType = '.lhe')\n",
    "\n",
    "\n",
    "# Get the list of .lhe files in this directory\n",
    "filesVect = findFiles(inputDir,'.lhe')\n",
    "for file in filesVect:\n",
    "    print (file)\n",
    "\n",
    "yn = input('You are about to convert {0} files in \\n    {1}\\nProceed? [y,n]'.format(len(filesVect),inputDir))\n",
    "\n",
    "if yn == 'y':\n",
    "    print ('Conversion in progress...')\n",
    "    for file in filesVect:\n",
    "        lhefile = open(file)\n",
    "        lhefileLines = lhefile.readlines()\n",
    "        dataVect  = [] # This stores the actual data we will be using\n",
    "        lineNoVect = [] # This indicates the line in the original lhe file\n",
    "        lineNo = 0     # This counts the line number in the original lhe file\n",
    "        eventNo = 0\n",
    "\n",
    "        for i in range(0,len(lhefileLines)-1):\n",
    "            lineNo +=1\n",
    "            line = lhefileLines[i]\n",
    "            nextLine = lhefileLines[i+1]\n",
    "            if line.split() == []: # This skips over completely empty lines in the lhe file\n",
    "                continue\n",
    "                \n",
    "            isCurrent6 = (len(line.split()) == 6)\n",
    "            isNext13 = (len(nextLine.split())==13)\n",
    "            \n",
    "            \n",
    "            # The information within the <event> tag always starts with a line of\n",
    "            # six numbers followed by a line of 13 numbers. This will be our \n",
    "            # the way we identify the lines in the file that we care about.\n",
    "            if isCurrent6 and isNext13:\n",
    "                eventNo +=1\n",
    "                numParticles = int(line.split()[0])\n",
    "                for j in range(0,numParticles):\n",
    "                    linej = lhefileLines[i+1+j]\n",
    "                    lineArray = linej.split()\n",
    "                    lineArray.insert(0,lineNo+j+1) # Insert lineNo at position 0 in the vector\n",
    "                    lineArray.insert(1,eventNo)\n",
    "                    dataVect.append(lineArray)\n",
    "            \n",
    "            columns = ['LineNo.',\\\n",
    "                   'EventNo.',\\\n",
    "                   'PID',\\\n",
    "                   'State',\\\n",
    "                   'Parent1', 'Parent2',\\\n",
    "                   'CF','ACF',\\\n",
    "                   'Px','Py','Pz','E','M',\\\n",
    "                   'cTau',\\\n",
    "                   'SpinProj']\n",
    "\n",
    "        name = file[:-4]\n",
    "        name = name.replace('lhe','csv')\n",
    "        nameSplit = name.split('\\\\')\n",
    "        nameSplit.pop(-2)\n",
    "        name = \"\\\\\".join(nameSplit)\n",
    "        df = pd.DataFrame(data = dataVect, columns = columns) #, dtype = float )\n",
    "        csvFileName = name +'.csv'\n",
    "        df.to_csv(csvFileName, index = False)\n",
    "        print (csvFileName + ' converted')\n",
    "else:\n",
    "    print ('Conversion aborted')\n",
    "\n",
    "            \n",
    "print ('Complete') "
   ]
  },
  {
   "cell_type": "markdown",
   "metadata": {
    "heading_collapsed": true
   },
   "source": [
    "#### Old Individual Conversion Code"
   ]
  },
  {
   "cell_type": "code",
   "execution_count": 14,
   "metadata": {
    "ExecuteTime": {
     "end_time": "2021-03-23T20:32:10.597728Z",
     "start_time": "2021-03-23T20:32:03.405773Z"
    },
    "hidden": true
   },
   "outputs": [
    {
     "name": "stdout",
     "output_type": "stream",
     "text": [
      "Lhe File: run01.lhe\n",
      "CSV File Name: run01.csv\n",
      "Complete\n"
     ]
    }
   ],
   "source": [
    "date = '21.3.23/'\n",
    "name = date+input('Lhe File: ')\n",
    "lhefile = open(eventFilePath(name))\n",
    "\n",
    "dataVect  = [] # This stores the actual data we will be using\n",
    "rawNoVect = [] # This indicates the line in the original lhe file\n",
    "lineNo = 0     # This counts the line number in the original lhe file\n",
    "eventNo = 0\n",
    "\n",
    "for line in lhefile:\n",
    "    lineNo +=1\n",
    "    \n",
    "    if line.split() == []: # This skips over completely empty lines in the lhe file\n",
    "        continue\n",
    "        \n",
    "    ###########################\n",
    "    # \"How many particles are in this event\"\n",
    "    # The lines that contain the number of particles in each event is 6 entries long\n",
    "    # The location in the string of the particle number in the event 1\n",
    "    ###########################\n",
    "    isLen6 = len(line.split()) == 6 # This picks out the relevant \"particle number\" lines\n",
    "    isNumber = line[1].isnumeric()  # The \"1th\" entry in the string is the location of the particle number\n",
    "    if isLen6 & isNumber:\n",
    "        eventNo += 1\n",
    "        \n",
    "    ###########################\n",
    "    # \"Is the current line useful?\"\n",
    "    # isLen13 tells us if the line length is exactly 13 entries long\n",
    "    #   13 is relevant because the useful lines are 13 entries long.\n",
    "    # isParticle tells us if the line we are looking at contains a particle\n",
    "    ###########################\n",
    "    isLen13 = len(line.split()) == 13 # \"13\" corresponds to the number of entries in a useful line \n",
    "    isParticle = (line.split()[0]) in str(list((PID.values()))) # Convert to string to fix data-type error\n",
    "    \n",
    "    ###########################\n",
    "    # \"If yes, append it to our dataVect\"\n",
    "    ###########################\n",
    "    if (isParticle & isLen13):\n",
    "        lineArray = line.split()\n",
    "        lineArray.insert(0,lineNo) # Insert lineNo at position 0 in the vector\n",
    "        lineArray.insert(1,eventNo)\n",
    "        dataVect.append(lineArray)\n",
    "\n",
    "    columns = ['RawNo.',\\\n",
    "           'EventNo.',\\\n",
    "           'PID',\\\n",
    "           'State',\\\n",
    "           'Parent1', 'Parent2',\\\n",
    "           'CF','ACF',\\\n",
    "           'Px','Py','Pz','E','M',\\\n",
    "           'cTau',\\\n",
    "           'SpinProj']\n",
    "    \n",
    "    \n",
    "df = pd.DataFrame(data = dataVect, columns = columns) #, dtype = float )\n",
    "csvFileName = date + input('CSV File Name: ')\n",
    "df.to_csv(CSVFilePath(csvFileName), index = True)\n",
    "\n",
    "print ('Complete')    "
   ]
  },
  {
   "cell_type": "markdown",
   "metadata": {},
   "source": [
    "# Analysis and Plots"
   ]
  },
  {
   "cell_type": "markdown",
   "metadata": {
    "heading_collapsed": true
   },
   "source": [
    "#### Date and Run Parameters"
   ]
  },
  {
   "cell_type": "code",
   "execution_count": null,
   "metadata": {
    "hidden": true
   },
   "outputs": [],
   "source": []
  },
  {
   "cell_type": "markdown",
   "metadata": {},
   "source": [
    "### Initialization"
   ]
  },
  {
   "cell_type": "code",
   "execution_count": 16,
   "metadata": {
    "ExecuteTime": {
     "end_time": "2021-03-23T20:32:49.164133Z",
     "start_time": "2021-03-23T20:32:49.115903Z"
    },
    "code_folding": [
     55
    ]
   },
   "outputs": [
    {
     "name": "stdout",
     "output_type": "stream",
     "text": [
      "Complete\n"
     ]
    }
   ],
   "source": [
    "import numpy as np\n",
    "\n",
    "import pandas as pd\n",
    "import matplotlib.pyplot as plt\n",
    "from scipy import interpolate\n",
    "import scipy.integrate as integrate\n",
    "\n",
    "%matplotlib inline\n",
    "\n",
    "def eventFilePath(fileName):\n",
    "    return 'MadGraph_Events/lhe/' + fileName\n",
    "\n",
    "def CSVFilePath(fileName):\n",
    "    return 'MadGraph_Events/csv/' + fileName\n",
    "\n",
    "PID = {\n",
    "    'down':1,\n",
    "    'Adown':-1,\n",
    "    'up':2,\n",
    "    'Aup':-2,\n",
    "    'strange':3,\n",
    "    'Astrange':-3,\n",
    "    'charm':4,\n",
    "    'Acharm':-4,\n",
    "    'bottom':5,\n",
    "    'Abottom':-5,\n",
    "    'top':6,\n",
    "    'Atop':-6,\n",
    "    'bPrime':7,\n",
    "    'AbPrime':-7,\n",
    "    'tPrime':8,\n",
    "    'AtPrime':-8,\n",
    "    'eMinus':11,\n",
    "    'AeMinus':-11,\n",
    "    'nuE':12,\n",
    "    'AnuE':-12,\n",
    "    'muMinus':13,\n",
    "    'AmuMinus':-13,\n",
    "    'nuMu':14,\n",
    "    'AnuMu':-14,\n",
    "    'tauMinus':15,\n",
    "    'AtauMinus':-15,\n",
    "    'nuTau':16,\n",
    "    'AnuTau':-16,\n",
    "    'tauPrime':17,\n",
    "    'AtauPrime':-17,\n",
    "    'nuTauPrime':18,\n",
    "    'AnuTauPrime':-18,\n",
    "    'gluon':21,\n",
    "    'photon':22,\n",
    "    'Z':23,\n",
    "    'W+':24,\n",
    "    'higgs':25,\n",
    "    'chi':100,\n",
    "    'Achi':-100,\n",
    "    'phi':101,\n",
    "    'A0': 36\n",
    "}\n",
    "\n",
    "def get_key(my_dict,val): \n",
    "    for key, value in my_dict.items(): \n",
    "         if val == value: \n",
    "            return key \n",
    "\n",
    "    return \"Key doesn't exist\"\n",
    "\n",
    "print ('Complete')"
   ]
  },
  {
   "cell_type": "markdown",
   "metadata": {},
   "source": [
    "### CSV Read-In"
   ]
  },
  {
   "cell_type": "markdown",
   "metadata": {},
   "source": [
    "This cell reads in a csv file and creates a histogram of the data\n",
    "\n",
    "The variable \"nBins\" determines the resolution of the PDF interpolation from the histogram. A higher number of bins yields a more accurate interpolation.\n",
    "\n",
    "Bin size seems to be set by the energy resolution of the detector. For now we will arbitrarily choose 200 bins."
   ]
  },
  {
   "cell_type": "code",
   "execution_count": 43,
   "metadata": {
    "ExecuteTime": {
     "end_time": "2021-04-02T23:49:05.920061Z",
     "start_time": "2021-04-02T23:49:02.379060Z"
    }
   },
   "outputs": [
    {
     "name": "stdout",
     "output_type": "stream",
     "text": [
      "Filename: PseudoR27.csv\n",
      "Complete\n"
     ]
    }
   ],
   "source": [
    "# fileIn = input('Input CSV File: ')\n",
    "# df = pd.read_csv(CSVFilePath(fileIn),sep = ',')\n",
    "\n",
    "\n",
    "\n",
    "# date = '3.17.20/2_2/'\n",
    "# fileIn1 = date+'0122R10.csv'\n",
    "# fileIn2 = date+'0222R100.csv'\n",
    "# fileIn3 = date+'0322R1000.csv'\n",
    "# fileIn4 = date+'0422R10000.csv'\n",
    "# fileIn5 = date+'0522R10P.csv'\n",
    "# fileIn6 = date+'0622R100P.csv'\n",
    "# fileIn7 = date+'0722R1000P.csv'\n",
    "# fileIn8 = date+'0822R10000P.csv'\n",
    "\n",
    "# date = '3.17.20/2_3/'\n",
    "# fileIn1 = date+'0123R10.csv'\n",
    "# fileIn2 = date+'0223R100.csv'\n",
    "# fileIn3 = date+'0323R1000.csv'\n",
    "# fileIn4 = date+'0423R10000.csv'\n",
    "# fileIn5 = date+'0523R10P.csv'\n",
    "# fileIn6 = date+'0623R100P.csv'\n",
    "# fileIn7 = date+'0723R1000P.csv'\n",
    "# fileIn8 = date+'0823R10000P.csv'\n",
    "\n",
    "# date = '3.19.20/'\n",
    "# fileIn1 = date+'R09E10.1.csv'\n",
    "# fileIn2 = date+'R10E10.01.csv'\n",
    "# fileIn3 = date+'R11E10.001.csv'\n",
    "# fileIn4 = date+'R12E10.0001.csv'\n",
    "\n",
    "# date = '3.19.20/'\n",
    "# fileIn1 = date+'25GeV.csv'\n",
    "# fileIn2 = date+'100GeV.csv'\n",
    "# fileIn3 = date+'1000GeV.csv'\n",
    "# fileIn4 = date+'5000GeV.csv'\n",
    "\n",
    "# date = '3.25.20/'\n",
    "# fileIn1 = date+'2_3Ebeam10.1.csv'\n",
    "# fileIn2 = date+'2_3Ebeam10.01.csv'\n",
    "# fileIn3 = date+'2_3Ebeam10.001.csv'\n",
    "# fileIn4 = date+'2_3Ebeam10.0001.csv'\n",
    "\n",
    "# date = '11.17.20/'\n",
    "# fileIn1 = date+'R14_E100_1.csv'\n",
    "# fileIn2 = date+'R15_E500.csv'\n",
    "# fileIn3 = date+'R16_E1000.csv'\n",
    "# fileIn4 = date+'R17_E5000.csv'\n",
    "# fileIn5 = date+'R18_E6500.csv'\n",
    "# fileIn1 = date+'R19_E202.csv'\n",
    "\n",
    "\n",
    "\n",
    "date = '21.5.4\\\\a0a0a0\\\\'\n",
    "fileIn1 = date+input(\"Filename: \")\n",
    "\n",
    "\n",
    "# fileIn1 = input('Input CSV File: ')\n",
    "# fileIn2 = input('Input CSV File: ')\n",
    "# fileIn3 = input('Input CSV File: ')\n",
    "# fileIn4 = input('Input CSV File: ')\n",
    "\n",
    "\n",
    "df1 = pd.read_csv(CSVFilePath(fileIn1),sep = ',')\n",
    "# df2 = pd.read_csv(CSVFilePath(fileIn2),sep = ',')\n",
    "# df3 = pd.read_csv(CSVFilePath(fileIn3),sep = ',')\n",
    "# df4 = pd.read_csv(CSVFilePath(fileIn4),sep = ',')\n",
    "# df5 = pd.read_csv(CSVFilePath(fileIn5),sep = ',')\n",
    "# df5 = pd.read_csv(CSVFilePath(fileIn5),sep = ',')\n",
    "# df6 = pd.read_csv(CSVFilePath(fileIn6),sep = ',')\n",
    "# df7 = pd.read_csv(CSVFilePath(fileIn7),sep = ',')\n",
    "# df8 = pd.read_csv(CSVFilePath(fileIn8),sep = ',')\n",
    "\n",
    "# secondaryID = PID['higgs']\n",
    "# primaryID = PID['tauMinus']\n",
    "# primaryIDA = PID['AtauMinus']\n",
    "\n",
    "primaryID = PID['chi']\n",
    "secondaryID = PID['phi']\n",
    "nBins = 200\n",
    "\n",
    "sM1 = float(df1[df1.PID == secondaryID]['M'].unique())\n",
    "pM1 = float(df1[df1.PID == primaryID]['M'].unique())\n",
    "\n",
    "\n",
    "print ('Complete')"
   ]
  },
  {
   "cell_type": "markdown",
   "metadata": {
    "heading_collapsed": true
   },
   "source": [
    "## All the Distributions"
   ]
  },
  {
   "cell_type": "markdown",
   "metadata": {
    "heading_collapsed": true,
    "hidden": true
   },
   "source": [
    "### Energy Column in CSV"
   ]
  },
  {
   "cell_type": "code",
   "execution_count": 44,
   "metadata": {
    "ExecuteTime": {
     "end_time": "2021-04-02T23:49:07.631030Z",
     "start_time": "2021-04-02T23:49:07.589996Z"
    },
    "hidden": true
   },
   "outputs": [
    {
     "name": "stdout",
     "output_type": "stream",
     "text": [
      "Complete\n"
     ]
    }
   ],
   "source": [
    "sM58 = float(df1[df1.PID == secondaryID]['M'].unique())\n",
    "pM1 = float(df1[df1.PID == primaryID]['M'].unique())\n",
    "\n",
    "# pM2 = float(df2[df2.PID == primaryID]['M'].unique())\n",
    "# pM3 = float(df3[df3.PID == primaryID]['M'].unique())\n",
    "# pM4 = float(df4[df4.PID == primaryID]['M'].unique())\n",
    "# pM4 = float(df5[df5.PID == primaryID]['M'].unique())\n",
    "\n",
    "# pM58 = float(df5[df5.PID == primaryID]['M'].unique())\n",
    "# sM5 = float(df5[df5.PID == secondaryID]['M'].unique())\n",
    "# sM6 = float(df6[df6.PID == secondaryID]['M'].unique())\n",
    "# sM7 = float(df7[df7.PID == secondaryID]['M'].unique())\n",
    "# sM8 = float(df8[df8.PID == secondaryID]['M'].unique())\n",
    "\n",
    "# print (pM1,pM2,pM3,pM4)\n",
    "# print (sM5,sM6,sM7,sM8)\n",
    "\n",
    "plotParam = 'E'\n",
    "\n",
    "#############################\n",
    "# Accessing specific particles\n",
    "# df[df.secondaryID == <You choose this>][Column you want]\n",
    "#############################\n",
    "\n",
    "# energyArray = df[df.PID == secondaryID]['E']/primaryMass\n",
    "energyArray1 = df1[df1.PID == secondaryID][plotParam]\n",
    "energyArray1 = energyArray1/pM1\n",
    "# energyArray2 = df2[df2.PID == secondaryID][plotParam]\n",
    "# energyArray2 = energyArray2/max(energyArray2)\n",
    "# energyArray3 = df3[df3.PID == secondaryID][plotParam]\n",
    "# energyArray3 = energyArray3/max(energyArray3)\n",
    "# energyArray4 = df4[df4.PID == secondaryID][plotParam]\n",
    "# energyArray4 = energyArray4/max(energyArray4)\n",
    "# energyArray5 = df5[df5.PID == secondaryID][plotParam]\n",
    "# energyArray5 = energyArray5/max(energyArray5)\n",
    "\n",
    "\n",
    "# energyArray5 = df5[df5.PID == secondaryID][plotParam]/pM58\n",
    "# energyArray6 = df6[df6.PID == secondaryID][plotParam]/pM58\n",
    "# energyArray7 = df7[df7.PID == secondaryID][plotParam]/pM58\n",
    "# energyArray8 = df8[df8.PID == secondaryID][plotParam]/pM58\n",
    "\n",
    "# nPoints = len(energyArray1)\n",
    "# binWidth = (max(energyArray1)-min(energyArray1))/nBins\n",
    "\n",
    "print ('Complete')"
   ]
  },
  {
   "cell_type": "code",
   "execution_count": 46,
   "metadata": {
    "ExecuteTime": {
     "end_time": "2021-04-02T23:49:26.218755Z",
     "start_time": "2021-04-02T23:49:24.577628Z"
    },
    "hidden": true
   },
   "outputs": [
    {
     "data": {
      "image/png": "[encoded data removed]",
      "text/plain": [
       "<Figure size 720x576 with 1 Axes>"
      ]
     },
     "metadata": {
      "needs_background": "light"
     },
     "output_type": "display_data"
    },
    {
     "name": "stdout",
     "output_type": "stream",
     "text": [
      "Complete\n"
     ]
    }
   ],
   "source": [
    "fig1 = plt.figure(figsize=(10,8))\n",
    "# counts, bins, bars = plt.hist(energyArray, bins = nBins, density = True)\n",
    "counts1, bins1, bars1 = plt.hist(energyArray1, bins = nBins, density = False, label = r'$E=201$ GeV, $m_{phi} = 5$ GeV')\n",
    "# counts2, bins2, bars2 = plt.hist(energyArray2, bins = nBins, density = True, label = 'E=500', alpha = 0.5)\n",
    "# counts3, bins3, bars3 = plt.hist(energyArray3, bins = nBins, density = True, label = 'E=1000', alpha = 0.5)\n",
    "# counts4, bins4, bars4 = plt.hist(energyArray4, bins = nBins, density = True, label = 'E=5000', alpha = 0.5)\n",
    "# counts5, bins5, bars5 = plt.hist(energyArray5, bins = nBins, density = True, label = 'E=6500', alpha = 0.5)\n",
    "# counts6, bins6, bars6 = plt.hist(energyArray6, bins = nBins, density = True, label = 'R=100P',alpha = 0.75)\n",
    "# counts7, bins7, bars7 = plt.hist(energyArray7, bins = nBins, density = True, label = 'R=1000P',alpha = 0.75)\n",
    "# counts8, bins8, bars8 = plt.hist(energyArray8, bins = nBins, density = True, label = 'R=10000P',alpha = 0.75)\n",
    "\n",
    "\n",
    "#########################################\n",
    "#           Interpolation Crap\n",
    "\n",
    "# eRange1 = np.linspace(min(energyArray1),max(energyArray1), nBins)\n",
    "# interpolation1 = interpolate.interp1d(eRange1,counts1)\n",
    "# eRange2 = np.linspace(min(energyArray2),max(energyArray2), nBins)\n",
    "# interpolation2 = interpolate.interp1d(eRange2,counts2)\n",
    "# eRange3 = np.linspace(min(energyArray3),max(energyArray3), nBins)\n",
    "# interpolation3 = interpolate.interp1d(eRange3,counts3)\n",
    "# eRange4 = np.linspace(min(energyArray4),max(energyArray4), nBins)\n",
    "# interpolation4 = interpolate.interp1d(eRange4,counts4)\n",
    "#########################################\n",
    "\n",
    "\n",
    "#########################################\n",
    "#            Power Spectrum\n",
    "\n",
    "# yVect = []\n",
    "# for E in eRange4:\n",
    "#     yVect.append(E*interpolation4(E))\n",
    "#########################################\n",
    "\n",
    "\n",
    "# plt.plot(eRange1,interpolation1(eRange1), label = 'Interpolation')\n",
    "# plt.plot(eRange2,interpolation2(eRange2), label = 'Interpolation')\n",
    "# plt.plot(eRange3,interpolation3(eRange3), label = 'Interpolation')\n",
    "# plt.plot(eRange4,interpolation4(eRange4), label = 'Interpolation')\n",
    "\n",
    "# plt.plot(eRange,yVect,label = 'E*counts')\n",
    "# plt.plot(eRange, counts3,'r.', label = 'Sample Points')\n",
    "plt.suptitle(r'Outgoing Pseudoscalar $\\phi$ spectrum'.format(get_key(PID,secondaryID)),size = 22)\n",
    "# plt.title('nPoints = {0}, nBins = {1}, BinWidth = {2} GeV'.format(nPoints, nBins, round(binWidth,3)),loc = 'right', fontsize = '12')\n",
    "# plt.title(r'\\sqrt(s) = {0} TeV, (m{1}, m{2}) = ({3},{4}) GeV'.format(10,get_key(PID,primaryID),get_key(PID,secondaryID),primaryMass,sM1),\\\n",
    "#           loc = 'right')\n",
    "plt.title(r'$m_x = 200\\ GeV, m_\\phi = 5\\ GeV, E_{beam} = 200.00001\\ GeV$',loc = 'right', size = 18)\n",
    "plt.xlabel(r'$E_{\\phi}/m_x$ [GeV]', size = 16)\n",
    "plt.ylabel('Counts',size = 16)\n",
    "plt.legend(loc = 'upper right')\n",
    "plt.grid()\n",
    "plt.show()\n",
    "\n",
    "# integrationCheck1 = integrate.quad(interpolation1, min(eRange1), max(eRange1))\n",
    "# integrationCheck2 = integrate.quad(interpolation2, min(eRange2), max(eRange2))\n",
    "# integrationCheck3 = integrate.quad(interpolation3, min(eRange3), max(eRange3))\n",
    "# integrationCheck4 = integrate.quad(interpolation4, min(eRange4), max(eRange4))\n",
    "\n",
    "# print (\"I1:\", integrationCheck1)\n",
    "# print (\"I2:\", integrationCheck2)\n",
    "# print (\"I3:\", integrationCheck3)\n",
    "# print (\"I4:\", integrationCheck4)\n",
    "\n",
    "\n",
    "print ('Complete')"
   ]
  },
  {
   "cell_type": "code",
   "execution_count": 47,
   "metadata": {
    "ExecuteTime": {
     "end_time": "2021-04-02T23:49:42.748671Z",
     "start_time": "2021-04-02T23:49:30.558703Z"
    },
    "hidden": true,
    "scrolled": true
   },
   "outputs": [
    {
     "name": "stdout",
     "output_type": "stream",
     "text": [
      "Figure Name:1PseudoSpectrum.png\n",
      "Complete\n"
     ]
    }
   ],
   "source": [
    "figname = input('Figure Name:')\n",
    "filepath = 'Plots//21.03.29//Pseudo//' + figname \n",
    "fig1.savefig(filepath, dpi = 700)\n",
    "print ('Complete')"
   ]
  },
  {
   "cell_type": "markdown",
   "metadata": {
    "heading_collapsed": true,
    "hidden": true
   },
   "source": [
    "### Energy Check: 'Energy column in the .lhe file\""
   ]
  },
  {
   "cell_type": "markdown",
   "metadata": {
    "hidden": true
   },
   "source": [
    "The \"Energy\" column in the `.lhe` file is the bonafide $\\mu = 0$ component of the $p^\\mu$ 4-vector."
   ]
  },
  {
   "cell_type": "code",
   "execution_count": 82,
   "metadata": {
    "ExecuteTime": {
     "end_time": "2021-03-30T22:26:45.054056Z",
     "start_time": "2021-03-30T22:26:42.963924Z"
    },
    "hidden": true
   },
   "outputs": [
    {
     "data": {
      "image/png": "[encoded data removed]",
      "text/plain": [
       "<Figure size 720x576 with 1 Axes>"
      ]
     },
     "metadata": {
      "needs_background": "light"
     },
     "output_type": "display_data"
    }
   ],
   "source": [
    "PM1 = float(df1[df1.PID == primaryID]['M'].unique())\n",
    "SM1 = float(df1[df1.PID == secondaryID]['M'].unique())\n",
    "Energy = df1[df1.PID == secondaryID]['E']/PM1\n",
    "fig2 = plt.figure(figsize = (10,8))\n",
    "counts1, bins1, bars1 = plt.hist(Energy, nBins, density = False)\n",
    "plt.suptitle(r'Outgoing $H$ Spectrum (sde_strategy = 2)', size = 22)\n",
    "plt.title(r'$\\tau^+\\tau^- \\rightarrow HHH$ | $E_{beam} = 250$ GeV',loc = 'right', size = 14)\n",
    "plt.xlabel(r'$X = E_H / m_{\\tau}$', size = 16)\n",
    "plt.ylabel('Counts', size = 16)\n",
    "plt.grid()\n",
    "plt.show()"
   ]
  },
  {
   "cell_type": "code",
   "execution_count": 13,
   "metadata": {
    "ExecuteTime": {
     "end_time": "2021-03-23T19:08:13.056971Z",
     "start_time": "2021-03-23T19:08:08.980143Z"
    },
    "hidden": true
   },
   "outputs": [
    {
     "name": "stdout",
     "output_type": "stream",
     "text": [
      "Figure Name:UpdatedPlot.png\n",
      "Complete\n"
     ]
    }
   ],
   "source": [
    "figname = input('Figure Name:')\n",
    "filepath = 'Plots/21.3.23/' + figname \n",
    "fig2.savefig(filepath, dpi = 700)\n",
    "print ('Complete')"
   ]
  },
  {
   "cell_type": "markdown",
   "metadata": {
    "heading_collapsed": true,
    "hidden": true
   },
   "source": [
    "### Energy Check, $E = \\sqrt{(\\vec{p}\\cdot \\vec{p} + m^2)}$"
   ]
  },
  {
   "cell_type": "markdown",
   "metadata": {
    "hidden": true
   },
   "source": [
    "This checks the energy for all outgoing particles."
   ]
  },
  {
   "cell_type": "markdown",
   "metadata": {
    "hidden": true
   },
   "source": [
    "This is still okay because the x-axis is scaled by 10 to some power. This distribution shows the spread in energy from the numerics but it still agrees with the bonafide"
   ]
  },
  {
   "cell_type": "code",
   "execution_count": 8,
   "metadata": {
    "ExecuteTime": {
     "end_time": "2021-03-18T19:18:10.165909Z",
     "start_time": "2021-03-18T19:18:09.457605Z"
    },
    "hidden": true
   },
   "outputs": [
    {
     "data": {
      "image/png": "[encoded data removed]",
      "text/plain": [
       "<Figure size 720x576 with 1 Axes>"
      ]
     },
     "metadata": {
      "needs_background": "light"
     },
     "output_type": "display_data"
    }
   ],
   "source": [
    "SM1 = float(df1[df1.PID == secondaryID]['M'].unique())\n",
    "PM1 = float(df1[df1.PID == primaryID]['M'].unique())\n",
    "px = df1[df1.PID == secondaryID]['Px']\n",
    "py = df1[df1.PID == secondaryID]['Py']\n",
    "pz = df1[df1.PID == secondaryID]['Pz']\n",
    "Energy = df1[df1.PID == secondaryID]['E']\n",
    "\n",
    "pxArray = np.asarray(px)\n",
    "pyArray = np.asarray(py)\n",
    "pzArray = np.asarray(pz)\n",
    "EVect = []\n",
    "for i in range(0,len(pxArray)):\n",
    "    momentum2 = pxArray[i]**2 + pyArray[i]**2 + pzArray[i]**2\n",
    "    Energy = np.sqrt(momentum2 + SM1**2)\n",
    "    EVect.append(Energy/PM1)\n",
    "\n",
    "\n",
    "fig3 = plt.figure(figsize = (10,8))\n",
    "counts, bins, bars = plt.hist(EVect, nBins, density = False)\n",
    "plt.suptitle(r'Outgoing $\\phi$ Spectrum | $E^2 = \\vec{p} \\cdot \\vec{p} + m_\\phi^2$', size = 22)\n",
    "plt.title(r'$E_{beam} = (1.01) m_\\chi$,  $m_\\chi = 200$ GeV, $m_\\phi = 5$ GeV',loc = 'right', size = 18)\n",
    "plt.xlabel(r'$X = E_{\\phi}/m_X$ [GeV]', size = 16)\n",
    "plt.ylabel('Counts', size = 16)\n",
    "plt.grid()\n",
    "plt.show()"
   ]
  },
  {
   "cell_type": "code",
   "execution_count": null,
   "metadata": {
    "collapsed": true,
    "hidden": true
   },
   "outputs": [],
   "source": [
    "figname = input('Figure Name:')\n",
    "filepath = 'Plots/' + figname \n",
    "fig3.savefig(filepath, dpi = 700)\n",
    "print ('Complete')"
   ]
  },
  {
   "cell_type": "markdown",
   "metadata": {
    "heading_collapsed": true,
    "hidden": true
   },
   "source": [
    "### Momentum Magnitude Check"
   ]
  },
  {
   "cell_type": "code",
   "execution_count": 83,
   "metadata": {
    "ExecuteTime": {
     "end_time": "2021-03-30T22:26:56.585233Z",
     "start_time": "2021-03-30T22:26:54.677166Z"
    },
    "hidden": true
   },
   "outputs": [
    {
     "data": {
      "image/png": "[encoded data removed]",
      "text/plain": [
       "<Figure size 720x576 with 1 Axes>"
      ]
     },
     "metadata": {
      "needs_background": "light"
     },
     "output_type": "display_data"
    }
   ],
   "source": [
    "PM1 = float(df1[df1.PID == primaryID]['M'].unique())\n",
    "SM1 = float(df1[df1.PID == secondaryID]['M'].unique())\n",
    "px = df1[df1.PID == secondaryID]['Px']/PM1\n",
    "py = df1[df1.PID == secondaryID]['Py']/PM1\n",
    "pz = df1[df1.PID == secondaryID]['Pz']/PM1\n",
    "\n",
    "momentum = np.sqrt(px**2 + py**2 + pz**2)\n",
    "fig4 = plt.figure(figsize=(10,8))\n",
    "plt.hist(momentum,nBins, density = False)\n",
    "plt.suptitle(r'$\\phi$ Momentum Magnitude Histogram', size = 22)\n",
    "plt.title(r'$2\\rightarrow3$,  $E_{beam} = (1.01) m_\\chi$,  $m_\\chi = 200$ GeV',loc = 'right', size = 18)\n",
    "plt.xlabel(r'$|\\vec{p}|_{Higgs} / m_X $', size = 16)\n",
    "plt.ylabel('Counts', size = 16)\n",
    "plt.grid()\n",
    "plt.show()"
   ]
  },
  {
   "cell_type": "code",
   "execution_count": 136,
   "metadata": {
    "ExecuteTime": {
     "end_time": "2020-11-16T00:14:54.487171Z",
     "start_time": "2020-11-16T00:14:41.739212Z"
    },
    "hidden": true
   },
   "outputs": [
    {
     "name": "stdout",
     "output_type": "stream",
     "text": [
      "Figure Name:phiMomentumMagnitude.png\n",
      "Complete\n"
     ]
    }
   ],
   "source": [
    "figname = input('Figure Name:')\n",
    "filepath = 'Plots/11.15.20/' + figname \n",
    "fig4.savefig(filepath, dpi = 700)\n",
    "print ('Complete')"
   ]
  },
  {
   "cell_type": "markdown",
   "metadata": {
    "heading_collapsed": true,
    "hidden": true
   },
   "source": [
    "### Momentum Component Check"
   ]
  },
  {
   "cell_type": "code",
   "execution_count": 84,
   "metadata": {
    "ExecuteTime": {
     "end_time": "2021-03-30T22:27:05.179152Z",
     "start_time": "2021-03-30T22:27:02.215363Z"
    },
    "hidden": true
   },
   "outputs": [
    {
     "data": {
      "image/png": "[encoded data removed]",
      "text/plain": [
       "<Figure size 864x432 with 3 Axes>"
      ]
     },
     "metadata": {
      "needs_background": "light"
     },
     "output_type": "display_data"
    },
    {
     "name": "stdout",
     "output_type": "stream",
     "text": [
      "Complete\n"
     ]
    }
   ],
   "source": [
    "PM1 = float(df1[df1.PID == primaryID]['M'].unique())\n",
    "SM1 = float(df1[df1.PID == secondaryID]['M'].unique())\n",
    "px = df1[df1.PID == secondaryID]['Px']\n",
    "py = df1[df1.PID == secondaryID]['Py']\n",
    "pz = df1[df1.PID == secondaryID]['Pz']\n",
    "\n",
    "\n",
    "momentum = np.sqrt(px**2 + py**2 + pz**2)\n",
    "fig5, (ax1,ax2,ax3) = plt.subplots(1,3, sharey = True, figsize = (12,6))\n",
    "\n",
    "ax1.hist(px/PM1, bins = int(nBins/2))\n",
    "ax1.grid()\n",
    "ax1.set_xlabel(r'$P_x/m_X$',size = 16)\n",
    "ax1.set_ylabel('Counts', size = 16)\n",
    "\n",
    "ax2.hist(py/PM1, bins = int(nBins/2))\n",
    "ax2.grid()\n",
    "ax2.set_xlabel(r'$P_y/m_X$',size = 16)\n",
    "\n",
    "ax3.hist(pz/PM1, bins = int(nBins/2))\n",
    "ax3.grid()\n",
    "ax3.set_xlabel(r'$P_z/m_X$',size = 16)\n",
    "plt.suptitle(r'$\\phi$ Momentum Components Histograms', size = 22)\n",
    "plt.title(r'$2\\rightarrow3$,  $E_{beam} = (1.01) m_\\chi$,  $m_\\chi = 200$ GeV',loc = 'right', size = 18)\n",
    "plt.show()\n",
    "\n",
    "\n",
    "print ('Complete')"
   ]
  },
  {
   "cell_type": "code",
   "execution_count": 125,
   "metadata": {
    "ExecuteTime": {
     "end_time": "2020-11-16T00:02:47.887678Z",
     "start_time": "2020-11-16T00:02:38.919742Z"
    },
    "hidden": true
   },
   "outputs": [
    {
     "name": "stdout",
     "output_type": "stream",
     "text": [
      "Figure Name: PhiMomentumComponents.png\n",
      "Complete\n"
     ]
    }
   ],
   "source": [
    "figname = input('Figure Name: ')\n",
    "filepath = 'Plots/11.15.20/' + figname \n",
    "fig5.savefig(filepath, dpi = 700)\n",
    "print ('Complete')"
   ]
  },
  {
   "cell_type": "markdown",
   "metadata": {
    "heading_collapsed": true,
    "hidden": true
   },
   "source": [
    "### $\\cos\\theta_{if}$ check (INCOMPLETE)"
   ]
  },
  {
   "cell_type": "markdown",
   "metadata": {
    "hidden": true
   },
   "source": [
    "This is an incomplete check.\n",
    "\n",
    "The initial momentum data are the scalar components of all of the incomming tau's, NOT including any of the incomming anti-taus. 10000 events, so there are 10000 entries for EACH component of the scalar momentum.\n",
    "\n",
    "The final momentum data are all of the scalar components of all of the outgoing phi's. There are 10000 events, so there are 30000 outgoing phis. Each phi has 3 scalar momentum components. This proceedure grabs all of the the scalar components of each phi so each component has 30000 entries.\n",
    "\n",
    "The plot data is the dot product of all of the initial momentum (10000 entries) and the first 10000 entries of the final momentum data.\n",
    "\n",
    "For a given particle, this checks the angle between the incoming and outgoing \n",
    "For an initial (final)-state particle with 3-momentum $\\vec{p_{i,(f)}}$, we have:\n",
    "\n",
    "$$ \\vec{p_i} = (0,0,P_z) \\ \\text{and} \\ \\vec{p_f} = (P'_x, P'_y, P'_z)$$ where we know all the components of these vectors.\n",
    "\n",
    "The dot product of the three momenta is:\n",
    "\n",
    "$$\\vec{p_i} \\cdot \\vec{p_f} = |p_i| |p_f| \\cos\\theta_{if} = P_z P'_z$$\n",
    "$$\\cos\\theta_{if} = \\frac{P_z P'_z}{|p_i| |p_f|}$$"
   ]
  },
  {
   "cell_type": "code",
   "execution_count": 7,
   "metadata": {
    "ExecuteTime": {
     "end_time": "2020-11-15T02:35:41.781709Z",
     "start_time": "2020-11-15T02:35:41.768074Z"
    },
    "hidden": true
   },
   "outputs": [],
   "source": [
    "CosDict = {}"
   ]
  },
  {
   "cell_type": "code",
   "execution_count": 17,
   "metadata": {
    "ExecuteTime": {
     "end_time": "2020-11-15T02:55:59.784002Z",
     "start_time": "2020-11-15T02:55:59.282227Z"
    },
    "hidden": true
   },
   "outputs": [
    {
     "name": "stdout",
     "output_type": "stream",
     "text": [
      "Complete\n"
     ]
    }
   ],
   "source": [
    "# You can read in all 4 data files simultaneously, but you have to \n",
    "# populate the data dictionary individually\n",
    "\n",
    "# Change fileIn1 to the other files and then change  \n",
    "df1 = pd.read_csv(CSVFilePath(fileIn1),sep = ',')\n",
    "\n",
    "pxi = np.asarray(df1[df1.PID == primaryID]['Px'])\n",
    "pyi = np.asarray(df1[df1.PID == primaryID]['Py'])\n",
    "pzi = np.asarray(df1[df1.PID == primaryID]['Pz'])\n",
    "pxf = np.asarray(df1[df1.PID == secondaryID]['Px'])\n",
    "pyf = np.asarray(df1[df1.PID == secondaryID]['Py'])\n",
    "pzf = np.asarray(df1[df1.PID == secondaryID]['Pz'])\n",
    "\n",
    "CosVect = []\n",
    "for j in range(0,len(pxi)):\n",
    "    pxij = pxi[j]\n",
    "    pyij = pyi[j]\n",
    "    pzij = pzi[j]\n",
    "    pxfj = pxf[j]\n",
    "    pyfj = pyf[j]\n",
    "    pzfj = pzf[j]\n",
    "    magPij = np.sqrt(pxij**2 + pyij**2 + pzij**2)\n",
    "    magPfj = np.sqrt(pxfj**2 + pyfj**2 + pzfj**2)\n",
    "    \n",
    "    numerator = pzij * pzfj\n",
    "    denominator = magPij*magPfj\n",
    "    CosVect.append(numerator/denominator)\n",
    "\n",
    "\n",
    "# Update the key in CosDict for different data files.\n",
    "# Each data file should correspond to a different data file.\n",
    "CosDict.update( {'4': CosVect})\n",
    "print ('Complete')"
   ]
  },
  {
   "cell_type": "code",
   "execution_count": 19,
   "metadata": {
    "ExecuteTime": {
     "end_time": "2020-11-15T02:56:17.215881Z",
     "start_time": "2020-11-15T02:56:16.219645Z"
    },
    "hidden": true
   },
   "outputs": [
    {
     "data": {
      "image/png": "[encoded data removed]",
      "text/plain": [
       "<Figure size 720x576 with 1 Axes>"
      ]
     },
     "metadata": {
      "needs_background": "light"
     },
     "output_type": "display_data"
    }
   ],
   "source": [
    "fig6 = plt.figure(figsize = (10,8))\n",
    "# counts1, bins1, bars1 = plt.hist(CosDict['1'],bins = nBins, label = 'Ebeam = 10.1 GeV')\n",
    "# counts2, bins2, bars2 = plt.hist(CosDict['2'],bins = nBins, alpha = 0.5, label = 'Ebeam = 10.01 GeV')\n",
    "# counts3, bins3, bars3 = plt.hist(CosDict['3'],bins = nBins, alpha = 0.5, label = 'Ebeam = 10.001 GeV')\n",
    "counts4, bins4, bars4 = plt.hist(CosDict['4'],bins = nBins, alpha = 0.5, label = 'Ebeam = 10.0001 GeV')\n",
    "plt.legend(loc = 'upper left')\n",
    "plt.suptitle(r'$\\cos\\theta$ Histogram', size = 22)\n",
    "# plt.title(r'$\\tau^+ \\tau^- \\rightarrow h h$,  t & u channels only,  $m_\\tau = 10$ GeV',loc = 'right', size = 18)\n",
    "plt.title(r'$\\tau^+\\tau^- \\rightarrow h \\, h \\, h$, \"t,u\" channels only', size = 18, loc = 'right')\n",
    "plt.xlabel(r'$\\cos\\theta_{if}$', size = 16)\n",
    "plt.ylabel('Counts', size = 16)\n",
    "plt.grid()"
   ]
  },
  {
   "cell_type": "code",
   "execution_count": 90,
   "metadata": {
    "ExecuteTime": {
     "end_time": "2020-03-19T20:14:42.641582Z",
     "start_time": "2020-03-19T20:14:38.767788Z"
    },
    "hidden": true
   },
   "outputs": [
    {
     "name": "stdout",
     "output_type": "stream",
     "text": [
      "Figure Name: e+e-2mu+mu-Theta.png\n",
      "Complete\n"
     ]
    }
   ],
   "source": [
    "figname = input('Figure Name: ')\n",
    "filepath = 'Plots/' + figname \n",
    "fig6.savefig(filepath, dpi = 700)\n",
    "print ('Complete')"
   ]
  },
  {
   "cell_type": "markdown",
   "metadata": {
    "heading_collapsed": true,
    "hidden": true
   },
   "source": [
    "### $\\cos\\theta_{12}$ Check"
   ]
  },
  {
   "cell_type": "markdown",
   "metadata": {
    "hidden": true
   },
   "source": [
    "This cell plots a histogram of angle between two $\\phi$'s that we care about.\n",
    "These can either be the two *most* or *least* energetic $\\phi$'s.\n",
    "\n",
    "Change the following lines:\n",
    "\n",
    "    10: energyPrime = <min / max>(modDF2.E) \n",
    "    \n",
    "The `<min / max>` determines which $\\phi$ we **don't** care about. `min` means that we don't care about the $\\phi$ with minimum energy and vice-versa."
   ]
  },
  {
   "cell_type": "code",
   "execution_count": 53,
   "metadata": {
    "ExecuteTime": {
     "end_time": "2021-04-02T23:53:54.019483Z",
     "start_time": "2021-04-02T23:52:41.267510Z"
    },
    "hidden": true
   },
   "outputs": [
    {
     "name": "stdout",
     "output_type": "stream",
     "text": [
      "eAvg: =  176.361473677932\n",
      "Complete\n"
     ]
    }
   ],
   "source": [
    "eventNums = df1['EventNo.'].unique()\n",
    "modDF1 = df1[df1.PID == secondaryID] # pick out only the outgoing Higgs'\n",
    "\n",
    "cosThetaVect = []\n",
    "energyVect = []\n",
    "for j in eventNums:\n",
    "    modDF2 = modDF1[modDF1['EventNo.'] == j] # grab the dataframe for event# j\n",
    "    energyPrime = max(modDF2.E) # select out the minimum energy\n",
    "    energyVect.append(energyPrime)\n",
    "    modDF3 = modDF2.drop(modDF2[modDF2.E == energyPrime].index) # drop the row with the min energy\n",
    "\n",
    "    # calculate angle\n",
    "    p1x = modDF3.iloc[0]['Px']\n",
    "    p1y = modDF3.iloc[0]['Py']\n",
    "    p1z = modDF3.iloc[0]['Pz']\n",
    "    p2x = modDF3.iloc[1]['Px']\n",
    "    p2y = modDF3.iloc[1]['Py']\n",
    "    p2z = modDF3.iloc[1]['Pz']\n",
    "\n",
    "    numerator = (p1x*p2x + p1y*p2y + p1z*p2z)\n",
    "    denominator = np.sqrt(p1x**2 + p1y**2 + p1z**2) * np.sqrt(p2x**2 + p2y**2 + p2z**2)\n",
    "    cosTheta = (numerator / denominator)\n",
    "    cosThetaVect.append(cosTheta)    \n",
    "    \n",
    "eAvg = np.mean(energyVect)\n",
    "print ('eAvg: = ',eAvg)\n",
    "\n",
    "print ('Complete')"
   ]
  },
  {
   "cell_type": "code",
   "execution_count": 54,
   "metadata": {
    "ExecuteTime": {
     "end_time": "2021-04-02T23:54:10.658901Z",
     "start_time": "2021-04-02T23:54:09.059512Z"
    },
    "hidden": true
   },
   "outputs": [
    {
     "data": {
      "image/png": "[encoded data removed]",
      "text/plain": [
       "<Figure size 720x576 with 1 Axes>"
      ]
     },
     "metadata": {
      "needs_background": "light"
     },
     "output_type": "display_data"
    }
   ],
   "source": [
    "fig7 = plt.figure(figsize = (10,8))\n",
    "plt.hist(cosThetaVect,bins = nBins)\n",
    "plt.xlabel(r'$\\cos(\\theta_{12})$', size = 16)\n",
    "plt.ylabel('Counts', size = 16)\n",
    "plt.suptitle(r'$\\frac{dN}{dC_{12}}$ for two least energetic $\\phi$s', size = 18)\n",
    "plt.title(r'Pseudoscalar $\\phi$s | $E_{max, avg} \\sim 170 GeV$',loc = \"right\", size = 14)\n",
    "plt.grid()\n",
    "plt.show()"
   ]
  },
  {
   "cell_type": "code",
   "execution_count": 55,
   "metadata": {
    "ExecuteTime": {
     "end_time": "2021-04-02T23:54:34.051231Z",
     "start_time": "2021-04-02T23:54:19.958614Z"
    },
    "hidden": true
   },
   "outputs": [
    {
     "name": "stdout",
     "output_type": "stream",
     "text": [
      "Figure Name:2PseudoC12LeastEnergetic.png\n",
      "Complete\n"
     ]
    }
   ],
   "source": [
    "figname = input('Figure Name:')\n",
    "filepath = 'Plots//21.03.29//Pseudo//' + figname \n",
    "fig7.savefig(filepath, dpi = 700)\n",
    "print ('Complete')"
   ]
  },
  {
   "cell_type": "markdown",
   "metadata": {
    "ExecuteTime": {
     "end_time": "2020-11-18T06:17:23.773745Z",
     "start_time": "2020-11-18T06:17:23.753274Z"
    },
    "heading_collapsed": true,
    "hidden": true
   },
   "source": [
    "### $\\frac{dN}{dC_{12}}$ for the 2 most energetic $\\phi$s subject to cuts"
   ]
  },
  {
   "cell_type": "markdown",
   "metadata": {
    "hidden": true
   },
   "source": [
    "In this cell, we impose an arbitrary cut of $\\cos(\\theta) = 0.8$\n",
    "\n",
    "The method of gradually trimming down the big dataframe seems to work so we will continue to use that strategy and trim down the dataframe from the previous cell."
   ]
  },
  {
   "cell_type": "code",
   "execution_count": 3,
   "metadata": {
    "ExecuteTime": {
     "end_time": "2021-04-02T23:27:18.822946Z",
     "start_time": "2021-04-02T23:26:12.073966Z"
    },
    "hidden": true
   },
   "outputs": [
    {
     "name": "stdout",
     "output_type": "stream",
     "text": [
      "Complete\n"
     ]
    }
   ],
   "source": [
    "eventNums = df1['EventNo.'].unique()\n",
    "modDF1 = df1[df1.PID == secondaryID] # pick out only the outgoing Higgs'\n",
    "\n",
    "cosThetaVectLESS = []\n",
    "cosThetaVectMORE = []\n",
    "energyVect = []\n",
    "for j in eventNums:\n",
    "    modDF2 = modDF1[modDF1['EventNo.'] == j] # grab the dataframe for event# j\n",
    "    energyPrime = min(modDF2.E) # select out the minimum energy\n",
    "    energyVect.append(energyPrime)\n",
    "    modDF3 = modDF2.drop(modDF2[modDF2.E == energyPrime].index) # drop the row with the min energy\n",
    "\n",
    "    # Calculate angle\n",
    "    p1x = modDF3.iloc[0]['Px']\n",
    "    p1y = modDF3.iloc[0]['Py']\n",
    "    p1z = modDF3.iloc[0]['Pz']\n",
    "    p2x = modDF3.iloc[1]['Px']\n",
    "    p2y = modDF3.iloc[1]['Py']\n",
    "    p2z = modDF3.iloc[1]['Pz']\n",
    "\n",
    "    numerator = (p1x*p2x + p1y*p2y + p1z*p2z)\n",
    "    denominator = np.sqrt(p1x**2 + p1y**2 + p1z**2) * np.sqrt(p2x**2 + p2y**2 + p2z**2)\n",
    "    cosTheta = (numerator / denominator)\n",
    "    \n",
    "    # Cuts\n",
    "    if cosTheta <= -0.8: # This plots the events when C12 < -0.8\n",
    "        cosThetaVectLESS.append(cosTheta)  \n",
    "        \n",
    "    if cosTheta >= -0.8:\n",
    "        cosThetaVectMORE.append(cosTheta)\n",
    "\n",
    "print ('Complete')"
   ]
  },
  {
   "cell_type": "code",
   "execution_count": 4,
   "metadata": {
    "ExecuteTime": {
     "end_time": "2021-04-02T23:29:55.992984Z",
     "start_time": "2021-04-02T23:29:53.460166Z"
    },
    "hidden": true
   },
   "outputs": [
    {
     "data": {
      "text/plain": [
       "Text(0.5, 0.98, '$\\\\frac{dN}{dC_{12}}$ for two most energetic $\\\\phi$s, y-axis shared')"
      ]
     },
     "execution_count": 4,
     "metadata": {},
     "output_type": "execute_result"
    },
    {
     "data": {
      "image/png": "[encoded data removed]",
      "text/plain": [
       "<Figure size 864x432 with 2 Axes>"
      ]
     },
     "metadata": {
      "needs_background": "light"
     },
     "output_type": "display_data"
    }
   ],
   "source": [
    "fig8, (ax1,ax2) = plt.subplots(1,2, sharey = True, figsize = (12,6))\n",
    "\n",
    "ax1.hist(cosThetaVectLESS, bins = int(nBins/2))\n",
    "ax1.grid()\n",
    "ax1.set_xlabel(r'$C_{12} < -0.8$',size = 16)\n",
    "ax1.set_ylabel('Counts', size = 16)\n",
    "\n",
    "ax2.hist(cosThetaVectMORE, bins = int(nBins/2))\n",
    "ax2.grid()\n",
    "ax2.set_title('Pseudoscalar $\\phi$s', loc = 'right')\n",
    "ax2.set_xlabel(r'$C_{12} \\geq -0.8$',size = 16)\n",
    "\n",
    "fig8.suptitle(r'$\\frac{dN}{dC_{12}}$ for two most energetic $\\phi$s, y-axis shared', size = 18)\n"
   ]
  },
  {
   "cell_type": "code",
   "execution_count": 67,
   "metadata": {
    "ExecuteTime": {
     "end_time": "2020-12-10T02:26:36.233940Z",
     "start_time": "2020-12-10T02:26:29.965487Z"
    },
    "hidden": true
   },
   "outputs": [
    {
     "name": "stdout",
     "output_type": "stream",
     "text": [
      "Figure Name:P_plots3and4.png\n",
      "Complete\n"
     ]
    }
   ],
   "source": [
    "figname = input('Figure Name:')\n",
    "filepath = 'Plots/12.9.20/Pseudo/' + figname \n",
    "fig8.savefig(filepath, dpi = 700)\n",
    "print ('Complete')"
   ]
  },
  {
   "cell_type": "markdown",
   "metadata": {
    "heading_collapsed": true,
    "hidden": true
   },
   "source": [
    "### Spectrum for two most energetic phi's"
   ]
  },
  {
   "cell_type": "code",
   "execution_count": 59,
   "metadata": {
    "ExecuteTime": {
     "end_time": "2021-04-02T23:56:20.676928Z",
     "start_time": "2021-04-02T23:55:39.162893Z"
    },
    "hidden": true
   },
   "outputs": [
    {
     "name": "stdout",
     "output_type": "stream",
     "text": [
      "101.81001107\n",
      "Complete\n"
     ]
    }
   ],
   "source": [
    "eventNums = df1['EventNo.'].unique()\n",
    "modDF1 = df1[df1.PID == secondaryID] # pick out only the outgoing Higgs'\n",
    "\n",
    "cosThetaVectLESS = []\n",
    "cosThetaVectMORE = []\n",
    "energyVect = []\n",
    "\n",
    "for j in eventNums:\n",
    "    modDF2 = modDF1[modDF1['EventNo.'] == j] # grab the dataframe for event# j\n",
    "    energyPrime = min(modDF2.E) # select out the minimum energy, this will be dropped\n",
    "    modDF3 = modDF2.drop(modDF2[modDF2.E == energyPrime].index) # drop the row with the min energy\n",
    "\n",
    "    for energy in modDF3.E:\n",
    "        energyVect.append(energy/pM1)\n",
    "\n",
    "print (energyPrime)\n",
    "print ('Complete')"
   ]
  },
  {
   "cell_type": "code",
   "execution_count": 60,
   "metadata": {
    "ExecuteTime": {
     "end_time": "2021-04-02T23:56:22.238172Z",
     "start_time": "2021-04-02T23:56:21.073270Z"
    },
    "hidden": true
   },
   "outputs": [
    {
     "data": {
      "image/png": "[encoded data removed]",
      "text/plain": [
       "<Figure size 720x576 with 1 Axes>"
      ]
     },
     "metadata": {
      "needs_background": "light"
     },
     "output_type": "display_data"
    }
   ],
   "source": [
    "fig9 = plt.figure(figsize = (10,8))\n",
    "plt.hist(energyVect,bins = int(nBins/2))\n",
    "plt.xlabel(r'$E_{1,2}/m_X$', size = 16)\n",
    "plt.ylabel('Counts', size = 16)\n",
    "plt.suptitle(r'Overlay of $\\frac{dN}{dE_1}$ and $\\frac{dN}{dE_2}$ for two most energetic $\\phi$s', size = 18)\n",
    "plt.title(r'Pseudoscalar $\\phi$s',loc = \"right\", size = 14)\n",
    "plt.xlim(-0.05,1.05)\n",
    "plt.grid()\n",
    "plt.show()"
   ]
  },
  {
   "cell_type": "code",
   "execution_count": 61,
   "metadata": {
    "ExecuteTime": {
     "end_time": "2021-04-02T23:56:43.311782Z",
     "start_time": "2021-04-02T23:56:31.037191Z"
    },
    "hidden": true
   },
   "outputs": [
    {
     "name": "stdout",
     "output_type": "stream",
     "text": [
      "Figure Name:5PseudodNdE12High.png\n",
      "Complete\n"
     ]
    }
   ],
   "source": [
    "figname = input('Figure Name:')\n",
    "filepath = 'Plots//21.03.29//Pseudo//' + figname \n",
    "fig9.savefig(filepath, dpi = 700)\n",
    "print ('Complete')"
   ]
  },
  {
   "cell_type": "markdown",
   "metadata": {
    "heading_collapsed": true,
    "hidden": true
   },
   "source": [
    "### $\\frac{dN}{dE_3}$ Spectrum of least energetic $\\phi$"
   ]
  },
  {
   "cell_type": "code",
   "execution_count": 62,
   "metadata": {
    "ExecuteTime": {
     "end_time": "2021-04-02T23:56:58.483500Z",
     "start_time": "2021-04-02T23:56:43.689241Z"
    },
    "hidden": true
   },
   "outputs": [
    {
     "name": "stdout",
     "output_type": "stream",
     "text": [
      "101.81001107\n",
      "Complete\n"
     ]
    }
   ],
   "source": [
    "eventNums = df1['EventNo.'].unique()\n",
    "modDF1 = df1[df1.PID == secondaryID] # pick out only the outgoing Higgs'\n",
    "\n",
    "energyMinVect = []\n",
    "for j in eventNums:\n",
    "    modDF2 = modDF1[modDF1['EventNo.'] == j] # grab the dataframe for event# j\n",
    "    energyPrime = min(modDF2.E) # select out the minimum energy\n",
    "    energyMinVect.append(energyPrime/pM1)\n",
    "\n",
    "print (energyPrime)\n",
    "print ('Complete')"
   ]
  },
  {
   "cell_type": "code",
   "execution_count": 63,
   "metadata": {
    "ExecuteTime": {
     "end_time": "2021-04-02T23:57:20.329597Z",
     "start_time": "2021-04-02T23:57:19.360261Z"
    },
    "hidden": true
   },
   "outputs": [
    {
     "data": {
      "image/png": "[encoded data removed]",
      "text/plain": [
       "<Figure size 720x576 with 1 Axes>"
      ]
     },
     "metadata": {
      "needs_background": "light"
     },
     "output_type": "display_data"
    }
   ],
   "source": [
    "fig10 = plt.figure(figsize = (10,8))\n",
    "plt.hist(energyMinVect,bins = int(nBins/2))\n",
    "plt.xlabel(r'$E_3/m_X$', size = 16)\n",
    "plt.ylabel('Counts', size = 16)\n",
    "plt.suptitle(r'$\\frac{dN}{dE_3}$ for least energetic $\\phi$', size = 18)\n",
    "plt.title(r'Pseudoscalar $\\phi$s | $E_{min, avg} \\sim 100 GeV$',loc = \"right\", size = 14)\n",
    "plt.xlim(-0.05,1.05)\n",
    "plt.grid()\n",
    "plt.show()"
   ]
  },
  {
   "cell_type": "code",
   "execution_count": 64,
   "metadata": {
    "ExecuteTime": {
     "end_time": "2021-04-02T23:57:44.033996Z",
     "start_time": "2021-04-02T23:57:27.798714Z"
    },
    "hidden": true
   },
   "outputs": [
    {
     "name": "stdout",
     "output_type": "stream",
     "text": [
      "Figure Name:6PseudodNdE3.png\n",
      "Complete\n"
     ]
    }
   ],
   "source": [
    "figname = input('Figure Name:')\n",
    "filepath = 'Plots//21.03.29//Pseudo//' + figname \n",
    "fig10.savefig(filepath, dpi = 700)\n",
    "print ('Complete')"
   ]
  },
  {
   "cell_type": "markdown",
   "metadata": {
    "heading_collapsed": true,
    "hidden": true
   },
   "source": [
    "### $\\frac{dN}{dE_3}$ subject to $C_{12}$ cuts"
   ]
  },
  {
   "cell_type": "code",
   "execution_count": 75,
   "metadata": {
    "ExecuteTime": {
     "end_time": "2020-12-10T02:29:48.055820Z",
     "start_time": "2020-12-10T02:29:30.479348Z"
    },
    "hidden": true
   },
   "outputs": [
    {
     "name": "stdout",
     "output_type": "stream",
     "text": [
      "Complete\n"
     ]
    }
   ],
   "source": [
    "eventNums = df1['EventNo.'].unique()\n",
    "modDF1 = df1[df1.PID == secondaryID] # pick out only the outgoing Higgs'\n",
    "\n",
    "dE3LESS = []\n",
    "dE3MORE = []\n",
    "energyVect = []\n",
    "for j in eventNums:\n",
    "    modDF2 = modDF1[modDF1['EventNo.'] == j] # grab the dataframe for event# j\n",
    "    energyPrime = min(modDF2.E) # select out the minimum energy\n",
    "    energyVect.append(energyPrime)\n",
    "    \n",
    "    \n",
    "    modDF3 = modDF2.drop(modDF2[modDF2.E == energyPrime].index) # drop the row with the min energy\n",
    "    # Calculate angle\n",
    "    p1x = modDF3.iloc[0]['Px']\n",
    "    p1y = modDF3.iloc[0]['Py']\n",
    "    p1z = modDF3.iloc[0]['Pz']\n",
    "    p2x = modDF3.iloc[1]['Px']\n",
    "    p2y = modDF3.iloc[1]['Py']\n",
    "    p2z = modDF3.iloc[1]['Pz']\n",
    "\n",
    "    numerator = (p1x*p2x + p1y*p2y + p1z*p2z)\n",
    "    denominator = np.sqrt(p1x**2 + p1y**2 + p1z**2) * np.sqrt(p2x**2 + p2y**2 + p2z**2)\n",
    "    cosTheta = (numerator / denominator)\n",
    "    \n",
    "    # Cuts\n",
    "    if cosTheta <= -0.8: # This plots the events when C12 < -0.8\n",
    "        # Grab energy of least energetic phi  \n",
    "        dE3LESS.append(energyPrime/pM1)\n",
    "    if cosTheta >= -0.8:\n",
    "        # Grab energy of least energetic phi\n",
    "        dE3MORE.append(energyPrime/pM1)\n",
    "\n",
    "print ('Complete')"
   ]
  },
  {
   "cell_type": "code",
   "execution_count": 77,
   "metadata": {
    "ExecuteTime": {
     "end_time": "2020-12-10T02:30:08.727151Z",
     "start_time": "2020-12-10T02:30:08.246479Z"
    },
    "hidden": true
   },
   "outputs": [
    {
     "name": "stdout",
     "output_type": "stream",
     "text": [
      "Total Length: 10000\n"
     ]
    },
    {
     "data": {
      "text/plain": [
       "Text(0.5, 0.98, '$\\\\frac{dN}{dE_3}$ for least energetic $\\\\phi$, y-axis shared')"
      ]
     },
     "execution_count": 77,
     "metadata": {},
     "output_type": "execute_result"
    },
    {
     "data": {
      "image/png": "[encoded data removed]",
      "text/plain": [
       "<Figure size 864x432 with 2 Axes>"
      ]
     },
     "metadata": {
      "needs_background": "light"
     },
     "output_type": "display_data"
    }
   ],
   "source": [
    "print ('Total Length:',(len(dE3LESS) + len(dE3MORE)))\n",
    "\n",
    "fig11, (ax1,ax2) = plt.subplots(1,2, sharey = True, figsize = (12,6))\n",
    "\n",
    "ax1.hist(dE3LESS, bins = int(nBins/2))\n",
    "ax1.grid()\n",
    "ax1.set_xlabel(r'$E_3/m_X \\ | \\ C_{12} \\leq -0.8$',size = 16)\n",
    "ax1.set_ylabel('Counts', size = 16)\n",
    "# ax1.set_title(r'Cut: $C_{12}\\leq-0.8$', loc = 'left')\n",
    "\n",
    "ax2.hist(dE3MORE, bins = int(nBins/2))\n",
    "ax2.grid()\n",
    "ax2.set_xlabel(r'$E_3/m_X \\ | \\ C_{12} \\geq -0.8$',size = 16)\n",
    "ax2.set_title(r'Pseudoscalar $\\phi$s',loc = 'right', size = 14)\n",
    "\n",
    "fig11.suptitle(r'$\\frac{dN}{dE_3}$ for least energetic $\\phi$, y-axis shared', size = 20)"
   ]
  },
  {
   "cell_type": "code",
   "execution_count": 78,
   "metadata": {
    "ExecuteTime": {
     "end_time": "2020-12-10T02:30:53.936384Z",
     "start_time": "2020-12-10T02:30:31.116555Z"
    },
    "hidden": true
   },
   "outputs": [
    {
     "name": "stdout",
     "output_type": "stream",
     "text": [
      "Figure Name:P_Plots4and5.png\n",
      "Complete\n"
     ]
    }
   ],
   "source": [
    "figname = input('Figure Name:')\n",
    "filepath = 'Plots/12.9.20/Pseudo/' + figname \n",
    "fig11.savefig(filepath, dpi = 700)\n",
    "print ('Complete')"
   ]
  },
  {
   "cell_type": "markdown",
   "metadata": {
    "heading_collapsed": true,
    "hidden": true
   },
   "source": [
    "### $\\frac{dN}{dE_1}$ for Most energetic $\\phi$ subject to $C_{12}$ cuts"
   ]
  },
  {
   "cell_type": "code",
   "execution_count": 44,
   "metadata": {
    "ExecuteTime": {
     "end_time": "2021-04-02T21:30:26.333721Z",
     "start_time": "2021-04-02T21:30:06.716185Z"
    },
    "hidden": true
   },
   "outputs": [
    {
     "name": "stdout",
     "output_type": "stream",
     "text": [
      "Complete\n"
     ]
    }
   ],
   "source": [
    "eventNums = df1['EventNo.'].unique()\n",
    "modDF1 = df1[df1.PID == secondaryID] # pick out only the outgoing Higgs'\n",
    "\n",
    "dE1LESS = []\n",
    "dE1MORE = []\n",
    "energyVect = []\n",
    "for j in eventNums:\n",
    "    modDF2 = modDF1[modDF1['EventNo.'] == j] # grab the dataframe for event# j\n",
    "    energyPrime = max(modDF2.E) # select out the maximum energy\n",
    "    energyCut = min(modDF2.E)\n",
    "    energyVect.append(energyPrime)\n",
    "    modDF3 = modDF2.drop(modDF2[modDF2.E == energyCut].index) # drop the row with the min energy\n",
    "\n",
    "    # Calculate angle\n",
    "    p1x = modDF2.iloc[0]['Px']\n",
    "    p1y = modDF2.iloc[0]['Py']\n",
    "    p1z = modDF2.iloc[0]['Pz']\n",
    "    p2x = modDF2.iloc[1]['Px']\n",
    "    p2y = modDF2.iloc[1]['Py']\n",
    "    p2z = modDF2.iloc[1]['Pz']\n",
    "\n",
    "    numerator = (p1x*p2x + p1y*p2y + p1z*p2z)\n",
    "    denominator = np.sqrt(p1x**2 + p1y**2 + p1z**2) * np.sqrt(p2x**2 + p2y**2 + p2z**2)\n",
    "    cosTheta = (numerator / denominator)\n",
    "    \n",
    "    # Cuts\n",
    "    if cosTheta <= -0.8: # This plots the events when C12 < -0.8\n",
    "        # Grab energy of least energetic phi  \n",
    "        dE1LESS.append(energyPrime/pM1)\n",
    "    if cosTheta >= -0.8:\n",
    "        # Grab energy of least energetic phi\n",
    "        dE1MORE.append(energyPrime/pM1)\n",
    "\n",
    "print ('Complete')"
   ]
  },
  {
   "cell_type": "code",
   "execution_count": 46,
   "metadata": {
    "ExecuteTime": {
     "end_time": "2021-04-02T21:31:29.751395Z",
     "start_time": "2021-04-02T21:31:29.147021Z"
    },
    "hidden": true
   },
   "outputs": [
    {
     "name": "stdout",
     "output_type": "stream",
     "text": [
      "Total Length: 10000\n"
     ]
    },
    {
     "data": {
      "text/plain": [
       "Text(0.5, 0.98, '$\\\\frac{dN}{dE_1}$ for most energetic $\\\\phi$, y-axis shared')"
      ]
     },
     "execution_count": 46,
     "metadata": {},
     "output_type": "execute_result"
    },
    {
     "data": {
      "image/png": "[encoded data removed]",
      "text/plain": [
       "<Figure size 864x432 with 2 Axes>"
      ]
     },
     "metadata": {
      "needs_background": "light"
     },
     "output_type": "display_data"
    }
   ],
   "source": [
    "print ('Total Length:',(len(dE1LESS) + len(dE1MORE)))\n",
    "\n",
    "fig12, (ax1,ax2) = plt.subplots(1,2, sharey = True, figsize = (12,6))\n",
    "\n",
    "ax1.hist(dE1LESS, bins = int(nBins/2))\n",
    "ax1.grid()\n",
    "ax1.set_xlabel(r'$E_1/m_X \\ | \\ C_{12} \\leq -0.8$',size = 16)\n",
    "ax1.set_ylabel('Counts', size = 16)\n",
    "ax1.set_title(r'Cut: $C_{12}\\leq-0.8$', loc = 'left')\n",
    "\n",
    "ax2.hist(dE1MORE, bins = int(nBins/2))\n",
    "ax2.grid()\n",
    "ax2.set_xlabel(r'$E_1/m_X \\ | \\ C_{12} \\geq -0.8$',size = 16)\n",
    "ax2.set_title(r'Cut: $C_{12}\\geq-0.8$',loc = 'left')\n",
    "\n",
    "fig12.suptitle(r'$\\frac{dN}{dE_1}$ for most energetic $\\phi$, y-axis shared', size = 20)"
   ]
  },
  {
   "cell_type": "code",
   "execution_count": 47,
   "metadata": {
    "ExecuteTime": {
     "end_time": "2020-11-25T19:29:04.938195Z",
     "start_time": "2020-11-25T19:28:55.074042Z"
    },
    "hidden": true
   },
   "outputs": [
    {
     "name": "stdout",
     "output_type": "stream",
     "text": [
      "Figure Name:dNdE1.png\n",
      "Complete\n"
     ]
    }
   ],
   "source": [
    "figname = input('Figure Name:')\n",
    "filepath = 'Plots/11.17.20/200.2/' + figname \n",
    "fig12.savefig(filepath, dpi = 700)\n",
    "print ('Complete')"
   ]
  },
  {
   "cell_type": "markdown",
   "metadata": {
    "hidden": true
   },
   "source": [
    "### Dalitz Plots"
   ]
  },
  {
   "cell_type": "markdown",
   "metadata": {
    "hidden": true
   },
   "source": [
    "In this section we want to generate Dalitz Plots for the simulated events.\n",
    "\n",
    "Note: For very slow dark matter colliding colinearly, we can take the initial state to be a single bound state of mass $M=2m_x$ with zero 3-momentum\n",
    "For a three-body decay, with the following 4 vectors:\n",
    "\n",
    "$P^\\mu = (2m_x,\\vec{0})\\\\\n",
    "P_a = (E_a,\\vec{P_a})\\\\\n",
    "P_b = (E_b,\\vec{P_b})\\\\\n",
    "P_c = (E_c,\\vec{P_c})$\n",
    "\n",
    "we have as our Daliz plot axes $m_{i,j}^2$ defined by:\n",
    "\n",
    "$$ m_{ij} \\equiv (P_i + P_j)^2 $$\n",
    "(I will name these \"Dalitz Parameters\")\n",
    "\n",
    "constrained by:\n",
    "\n",
    "$$ M^2 + m_{12}^2 + m_{23}^2 + m_{31}^2 =\\text{constant} $$\n",
    "\n",
    "I am going to take the following subscript convention for Pythonic stuff:\n",
    "\n",
    "- $\\phi_1 \\equiv$ the highest energy phi\n",
    "\n",
    "- $\\phi_3 \\equiv$ the lowest energy phi\n",
    " \n",
    "We will be plotting:\n",
    "\n",
    "- $m_{23} = $ RHS with highest energy phi stuff\n",
    "- $m_{12} = $ RHS with lowest energy phi stuff"
   ]
  },
  {
   "cell_type": "markdown",
   "metadata": {
    "hidden": true
   },
   "source": [
    "This seems easiest to do with the lowest and highest energy phi's in each event so lets proceed with those."
   ]
  },
  {
   "cell_type": "code",
   "execution_count": 3,
   "metadata": {
    "ExecuteTime": {
     "end_time": "2021-05-17T22:47:17.014008Z",
     "start_time": "2021-05-17T22:47:16.744648Z"
    },
    "hidden": true
   },
   "outputs": [
    {
     "name": "stdout",
     "output_type": "stream",
     "text": [
      "Complete\n"
     ]
    }
   ],
   "source": [
    "date = '21.3.25\\\\Pseudo\\\\'\n",
    "# fileIn1 = date+input(\"Filename: \")\n",
    "fileIn1 = date+'PseudoR27.csv'\n",
    "df1 = pd.read_csv(CSVFilePath(fileIn1),sep = ',')\n",
    "primaryID = PID['chi']\n",
    "secondaryID = PID['phi']\n",
    "nBins = 200\n",
    "sM1 = float(df1[df1.PID == secondaryID]['M'].unique())\n",
    "pM1 = float(df1[df1.PID == primaryID]['M'].unique())\n",
    "\n",
    "print ('Complete')"
   ]
  },
  {
   "cell_type": "code",
   "execution_count": 4,
   "metadata": {
    "ExecuteTime": {
     "end_time": "2021-05-17T22:48:54.510300Z",
     "start_time": "2021-05-17T22:47:18.564228Z"
    },
    "hidden": true
   },
   "outputs": [
    {
     "name": "stdout",
     "output_type": "stream",
     "text": [
      "Complete\n"
     ]
    }
   ],
   "source": [
    "primaryMass   = pM1\n",
    "secondaryMass = sM1\n",
    "\n",
    "eventNums = df1['EventNo.'].unique()\n",
    "m12Vect = []\n",
    "m23Vect = []\n",
    "negativeTracking = []\n",
    "for j in eventNums:\n",
    "    modDF1 = df1[df1['EventNo.'] == j] # grab the dataframe for event# j\n",
    "\n",
    "    # grab all Primary info\n",
    "    primaryE  = modDF1[modDF1.PID == primaryID].iloc[0]['E']\n",
    "    primaryM  = 2*modDF1[modDF1.PID == primaryID].iloc[0]['M']\n",
    "    primaryPx,primaryPy,primaryPz = 0,0,0\n",
    "\n",
    "    # Reduce to outgoing phi's\n",
    "    outgoingDF = modDF1[modDF1.PID == secondaryID] # pick out only the outgoing Higgs'\n",
    "\n",
    "    secondaryE1  = outgoingDF.iloc[0]['E']\n",
    "    secondaryP1x = outgoingDF.iloc[0]['Px']\n",
    "    secondaryP1y = outgoingDF.iloc[0]['Py']\n",
    "    secondaryP1z = outgoingDF.iloc[0]['Pz']\n",
    "\n",
    "\n",
    "    secondaryE2  = outgoingDF.iloc[1]['E']\n",
    "    secondaryP2x = outgoingDF.iloc[1]['Px']\n",
    "    secondaryP2y = outgoingDF.iloc[1]['Py']\n",
    "    secondaryP2z = outgoingDF.iloc[1]['Pz']\n",
    "\n",
    "\n",
    "    secondaryE3  = outgoingDF.iloc[2]['E']\n",
    "    secondaryP3x = outgoingDF.iloc[2]['Px']\n",
    "    secondaryP3y = outgoingDF.iloc[2]['Py']\n",
    "    secondaryP3z = outgoingDF.iloc[2]['Pz']\n",
    "\n",
    "    dotProduct12 = secondaryP1x*secondaryP2x + secondaryP1y*secondaryP2y + secondaryP1z*secondaryP2z\n",
    "    dotProduct23 = secondaryP2x*secondaryP3x + secondaryP2y*secondaryP3y + secondaryP2z*secondaryP3z\n",
    "\n",
    "    m12 = sM1**2 + sM1**2 + 2*(secondaryE1*secondaryE2 - (dotProduct12))\n",
    "    m23 = sM1**2 + sM1**2 + 2*(secondaryE2*secondaryE3 - (dotProduct23))\n",
    "\n",
    "    m23Vect.append(m23)\n",
    "    m12Vect.append(m12)\n",
    "\n",
    "print ('Complete')"
   ]
  },
  {
   "cell_type": "code",
   "execution_count": 78,
   "metadata": {
    "ExecuteTime": {
     "end_time": "2021-03-30T22:25:38.488897Z",
     "start_time": "2021-03-30T22:25:37.177808Z"
    },
    "hidden": true
   },
   "outputs": [
    {
     "data": {
      "image/png": "[encoded data removed]",
      "text/plain": [
       "<Figure size 720x576 with 1 Axes>"
      ]
     },
     "metadata": {
      "needs_background": "light"
     },
     "output_type": "display_data"
    }
   ],
   "source": [
    "fig13 = plt.figure(figsize = (10,8))\n",
    "plt.scatter(m23Vect,m12Vect, s = 2)\n",
    "plt.xlabel(r'$m_{23}^2$ GeV$^2$', size = 16)\n",
    "plt.ylabel(r'$m_{12}^2$ GeV$^2$', size = 16)\n",
    "plt.suptitle(r'Dalitz Plot: $\\chi \\bar{\\chi} \\rightarrow \\phi \\phi \\phi$ Pseudo', size = 18)\n",
    "plt.title(r'$m_X = 200$ GeV | $Ebeam = 200.00001$ GeV | $m_\\phi = 5$ GeV',loc = \"right\", size = 14)\n",
    "plt.grid()\n",
    "plt.show()"
   ]
  },
  {
   "cell_type": "code",
   "execution_count": 79,
   "metadata": {
    "ExecuteTime": {
     "end_time": "2021-03-30T22:25:59.133951Z",
     "start_time": "2021-03-30T22:25:42.979872Z"
    },
    "hidden": true
   },
   "outputs": [
    {
     "name": "stdout",
     "output_type": "stream",
     "text": [
      "Figure Name:PseudoE200_00001.png\n",
      "Complete\n"
     ]
    }
   ],
   "source": [
    "figname = input('Figure Name:')\n",
    "filepath = 'Plots/21.3.29/Pseudo/' + figname \n",
    "fig13.savefig(filepath, dpi = 700)\n",
    "print ('Complete')"
   ]
  },
  {
   "cell_type": "code",
   "execution_count": null,
   "metadata": {
    "hidden": true
   },
   "outputs": [],
   "source": []
  }
 ],
 "metadata": {
  "kernelspec": {
   "display_name": "Python 3",
   "language": "python",
   "name": "python3"
  },
  "language_info": {
   "codemirror_mode": {
    "name": "ipython",
    "version": 3
   },
   "file_extension": ".py",
   "mimetype": "text/x-python",
   "name": "python",
   "nbconvert_exporter": "python",
   "pygments_lexer": "ipython3",
   "version": "3.8.3"
  },
  "latex_envs": {
   "LaTeX_envs_menu_present": true,
   "autoclose": false,
   "autocomplete": false,
   "bibliofile": "biblio.bib",
   "cite_by": "apalike",
   "current_citInitial": 1,
   "eqLabelWithNumbers": true,
   "eqNumInitial": 1,
   "hotkeys": {
    "equation": "Ctrl-E",
    "itemize": "Ctrl-I"
   },
   "labels_anchors": false,
   "latex_user_defs": false,
   "report_style_numbering": false,
   "user_envs_cfg": false
  },
  "toc": {
   "base_numbering": 1,
   "nav_menu": {},
   "number_sections": true,
   "sideBar": true,
   "skip_h1_title": false,
   "title_cell": "Table of Contents",
   "title_sidebar": "Contents",
   "toc_cell": false,
   "toc_position": {},
   "toc_section_display": true,
   "toc_window_display": false
  },
  "varInspector": {
   "cols": {
    "lenName": 16,
    "lenType": 16,
    "lenVar": 40
   },
   "kernels_config": {
    "python": {
     "delete_cmd_postfix": "",
     "delete_cmd_prefix": "del ",
     "library": "var_list.py",
     "varRefreshCmd": "print(var_dic_list())"
    },
    "r": {
     "delete_cmd_postfix": ") ",
     "delete_cmd_prefix": "rm(",
     "library": "var_list.r",
     "varRefreshCmd": "cat(var_dic_list()) "
    }
   },
   "types_to_exclude": [
    "module",
    "function",
    "builtin_function_or_method",
    "instance",
    "_Feature"
   ],
   "window_display": false
  }
 },
 "nbformat": 4,
 "nbformat_minor": 2
}
