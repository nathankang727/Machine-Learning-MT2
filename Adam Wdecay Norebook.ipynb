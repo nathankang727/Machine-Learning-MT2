{
 "cells": [
  {
   "cell_type": "markdown",
   "metadata": {},
   "source": [
    "# Machine Learning MT2"
   ]
  },
  {
   "cell_type": "markdown",
   "metadata": {},
   "source": [
    "[Follow This Example](https://towardsdatascience.com/building-your-first-neural-network-in-tensorflow-2-tensorflow-for-hackers-part-i-e1e2f1dfe7a0)\n",
    "\n",
    "[Digits example I did in undergrad](http://neuralnetworksanddeeplearning.com/chap1.html)\n",
    "\n",
    "[Numerical Example](https://www.machinecurve.com/index.php/2019/07/18/can-neural-networks-approximate-mathematical-functions/)"
   ]
  },
  {
   "cell_type": "markdown",
   "metadata": {},
   "source": [
    "## Following a specific example"
   ]
  },
  {
   "cell_type": "markdown",
   "metadata": {},
   "source": [
    "[Follow This Example](https://towardsdatascience.com/building-your-first-neural-network-in-tensorflow-2-tensorflow-for-hackers-part-i-e1e2f1dfe7a0)"
   ]
  },
  {
   "cell_type": "code",
   "execution_count": 2,
   "metadata": {
    "ExecuteTime": {
     "end_time": "2022-09-15T00:58:03.865039Z",
     "start_time": "2022-09-15T00:57:15.975432Z"
    }
   },
   "outputs": [
    {
     "name": "stdout",
     "output_type": "stream",
     "text": [
      "Complete\n"
     ]
    }
   ],
   "source": [
    "import tensorflow as tf\n",
    "from tensorflow import keras\n",
    "import numpy as np\n",
    "import matplotlib.pyplot as plt\n",
    "\n",
    "print ('Complete')"
   ]
  },
  {
   "cell_type": "markdown",
   "metadata": {},
   "source": [
    "Classifying images of clothes based on type (t-shirt,trousers,pullovers,dress,coat...)"
   ]
  },
  {
   "cell_type": "markdown",
   "metadata": {},
   "source": [
    "### Generate Training and Validation Data"
   ]
  },
  {
   "cell_type": "markdown",
   "metadata": {},
   "source": [
    "This methodology assumes a pipeline of $x\\rightarrow y$, with one big batch of data being split into training and validation data. \n",
    "\n",
    "1. Training Data: Contains the input data AND the correct output. We will use this to train our NN by feeding it the input, and asking it to learn the output iteratively by changing weights and such.\n",
    "\n",
    "1. Validation data: Contains a different set of input data and output data. In this case though, we input and the NN makes a prediction based on its prior training. We then compare the NN predicted output to the actual truth output.\n"
   ]
  },
  {
   "cell_type": "code",
   "execution_count": 3,
   "metadata": {
    "ExecuteTime": {
     "end_time": "2022-09-15T00:58:19.626515Z",
     "start_time": "2022-09-15T00:58:15.385600Z"
    }
   },
   "outputs": [],
   "source": [
    "(x_train,y_train),(x_val,y_val) = keras.datasets.fashion_mnist.load_data()"
   ]
  },
  {
   "cell_type": "markdown",
   "metadata": {},
   "source": [
    "### Preprocess the data"
   ]
  },
  {
   "cell_type": "markdown",
   "metadata": {},
   "source": [
    "It is helpful to normalize the data to take values between $[0,1]$"
   ]
  },
  {
   "cell_type": "code",
   "execution_count": 4,
   "metadata": {
    "ExecuteTime": {
     "end_time": "2022-09-15T00:58:42.076951Z",
     "start_time": "2022-09-15T00:58:42.050175Z"
    }
   },
   "outputs": [],
   "source": [
    "def preprocess(x, y):\n",
    "    x = tf.cast(x, tf.float32) / 255.0 # This normalizes our input data\n",
    "    y = tf.cast(y, tf.int64) # We are choosing 10 classifications of clothing\n",
    "    return (x,y)\n",
    "\n",
    "\n",
    "def create_dataset(xs, ys, n_classes=10):\n",
    "    ys = tf.one_hot(ys, depth=n_classes)\n",
    "    return tf.data.Dataset.from_tensor_slices((xs, ys)) \\\n",
    "    .map(preprocess) \\\n",
    "    .shuffle(len(ys)) \\\n",
    "    .batch(128)"
   ]
  },
  {
   "cell_type": "markdown",
   "metadata": {},
   "source": [
    "### Create Training and validation datasets"
   ]
  },
  {
   "cell_type": "code",
   "execution_count": 5,
   "metadata": {
    "ExecuteTime": {
     "end_time": "2022-09-15T00:59:02.740043Z",
     "start_time": "2022-09-15T00:59:01.717531Z"
    }
   },
   "outputs": [
    {
     "name": "stdout",
     "output_type": "stream",
     "text": [
      "<BatchDataset shapes: ((None, 28, 28), (None, 10)), types: (tf.float32, tf.int64)>\n",
      "Complete\n"
     ]
    }
   ],
   "source": [
    "train_dataset = create_dataset(x_train, y_train)\n",
    "val_dataset = create_dataset(x_val, y_val)\n",
    "\n",
    "print ((train_dataset))\n",
    "\n",
    "print ('Complete')"
   ]
  },
  {
   "cell_type": "markdown",
   "metadata": {},
   "source": [
    "### Construct the Model"
   ]
  },
  {
   "cell_type": "code",
   "execution_count": 6,
   "metadata": {
    "ExecuteTime": {
     "end_time": "2022-09-15T00:59:12.545417Z",
     "start_time": "2022-09-15T00:59:12.204749Z"
    }
   },
   "outputs": [
    {
     "name": "stdout",
     "output_type": "stream",
     "text": [
      "Complete\n"
     ]
    }
   ],
   "source": [
    "model = keras.Sequential([\n",
    "    keras.layers.Reshape(target_shape=(28 * 28,), input_shape=(28, 28)),\n",
    "    keras.layers.Dense(units=256, activation='relu'),\n",
    "    keras.layers.Dense(units=192, activation='relu'),\n",
    "    keras.layers.Dense(units=128, activation='relu'),\n",
    "    keras.layers.Dense(units=10, activation='softmax')\n",
    "])\n",
    "\n",
    "print ('Complete')"
   ]
  },
  {
   "cell_type": "markdown",
   "metadata": {},
   "source": [
    "### Train"
   ]
  },
  {
   "cell_type": "code",
   "execution_count": 7,
   "metadata": {
    "ExecuteTime": {
     "end_time": "2022-09-15T01:04:03.329494Z",
     "start_time": "2022-09-15T00:59:21.686863Z"
    }
   },
   "outputs": [
    {
     "name": "stdout",
     "output_type": "stream",
     "text": [
      "Epoch 1/10\n"
     ]
    },
    {
     "name": "stderr",
     "output_type": "stream",
     "text": [
      "C:\\Users\\asg00\\anaconda3\\lib\\site-packages\\tensorflow\\python\\util\\dispatch.py:1096: UserWarning: \"`categorical_crossentropy` received `from_logits=True`, but the `output` argument was produced by a sigmoid or softmax activation and thus does not represent logits. Was this intended?\"\n",
      "  return dispatch_target(*args, **kwargs)\n"
     ]
    },
    {
     "name": "stdout",
     "output_type": "stream",
     "text": [
      "500/500 [==============================] - 46s 64ms/step - loss: 0.4873 - accuracy: 0.8271 - val_loss: 0.3802 - val_accuracy: 0.8633\n",
      "Epoch 2/10\n",
      "500/500 [==============================] - 27s 54ms/step - loss: 0.3580 - accuracy: 0.8692 - val_loss: 0.3941 - val_accuracy: 0.8516\n",
      "Epoch 3/10\n",
      "500/500 [==============================] - 25s 51ms/step - loss: 0.3167 - accuracy: 0.8832 - val_loss: 0.3687 - val_accuracy: 0.8867\n",
      "Epoch 4/10\n",
      "500/500 [==============================] - 24s 48ms/step - loss: 0.2934 - accuracy: 0.8918 - val_loss: 0.3715 - val_accuracy: 0.8711\n",
      "Epoch 5/10\n",
      "500/500 [==============================] - 25s 50ms/step - loss: 0.2790 - accuracy: 0.8966 - val_loss: 0.4359 - val_accuracy: 0.8320\n",
      "Epoch 6/10\n",
      "500/500 [==============================] - 24s 48ms/step - loss: 0.2615 - accuracy: 0.9021 - val_loss: 0.3109 - val_accuracy: 0.8789\n",
      "Epoch 7/10\n",
      "500/500 [==============================] - 26s 52ms/step - loss: 0.2489 - accuracy: 0.9076 - val_loss: 0.3695 - val_accuracy: 0.8789\n",
      "Epoch 8/10\n",
      "500/500 [==============================] - 27s 53ms/step - loss: 0.2447 - accuracy: 0.9079 - val_loss: 0.2628 - val_accuracy: 0.9023\n",
      "Epoch 9/10\n",
      "500/500 [==============================] - 30s 60ms/step - loss: 0.2267 - accuracy: 0.9139 - val_loss: 0.3635 - val_accuracy: 0.8711\n",
      "Epoch 10/10\n",
      "500/500 [==============================] - 28s 56ms/step - loss: 0.2206 - accuracy: 0.9168 - val_loss: 0.3499 - val_accuracy: 0.8477 loss: 0.2212 - accuracy: 0. - ETA: 2s\n",
      "Complete\n"
     ]
    }
   ],
   "source": [
    "model.compile(optimizer='adam', \n",
    "              loss=tf.losses.CategoricalCrossentropy(from_logits=True),\n",
    "              metrics=['accuracy'])\n",
    "\n",
    "history = model.fit(\n",
    "    train_dataset.repeat(), \n",
    "    epochs=10, \n",
    "    steps_per_epoch=500,\n",
    "    validation_data=val_dataset.repeat(), \n",
    "    validation_steps=2\n",
    ")\n",
    "\n",
    "print ('Complete')"
   ]
  },
  {
   "cell_type": "markdown",
   "metadata": {},
   "source": [
    "### Validate Model"
   ]
  },
  {
   "cell_type": "code",
   "execution_count": 8,
   "metadata": {
    "ExecuteTime": {
     "end_time": "2022-09-15T01:06:17.982716Z",
     "start_time": "2022-09-15T01:06:14.004245Z"
    }
   },
   "outputs": [
    {
     "name": "stdout",
     "output_type": "stream",
     "text": [
      "[[2.91233533e-04 1.32338473e-05 5.13189882e-02 ... 3.58947636e-06\n",
      "  1.79020237e-04 2.17634692e-06]\n",
      " [4.36535714e-07 1.31589638e-06 3.67322770e-07 ... 9.98247027e-01\n",
      "  4.28079766e-05 1.59431808e-03]\n",
      " [1.21952504e-10 5.50508424e-12 1.33319709e-11 ... 9.99984026e-01\n",
      "  7.65699948e-09 1.27271426e-06]\n",
      " ...\n",
      " [1.06507119e-15 1.55295147e-18 8.42829546e-17 ... 1.53638370e-16\n",
      "  1.18097258e-18 6.58363007e-15]\n",
      " [4.94367614e-09 9.99999762e-01 2.26085173e-09 ... 5.47687438e-15\n",
      "  4.52893190e-08 9.50154799e-12]\n",
      " [1.63923902e-03 1.02838225e-04 3.89882662e-05 ... 1.01078634e-09\n",
      "  3.60372468e-07 9.58308899e-09]]\n"
     ]
    }
   ],
   "source": [
    "predictions = model.predict(val_dataset)\n",
    "\n",
    "print((predictions))"
   ]
  },
  {
   "cell_type": "markdown",
   "metadata": {},
   "source": [
    "# W Mass Project"
   ]
  },
  {
   "cell_type": "markdown",
   "metadata": {},
   "source": [
    "## General Setup"
   ]
  },
  {
   "cell_type": "markdown",
   "metadata": {},
   "source": [
    "W boson produced at rest and decays into a lepton and neutrino.\n",
    "We want to use the lepton 4-vector as input, and output the w_mass using something related to mT.\n",
    "\n",
    "More precisely, we have a distribution of lepton 4-vectors $\\{ (p^\\mu)_\\ell \\}$, one for each event. From this, we construct $m_T$, and can use the resulting distribution of $m_T$ to determine the W mass."
   ]
  },
  {
   "cell_type": "markdown",
   "metadata": {},
   "source": [
    "### Background"
   ]
  },
  {
   "cell_type": "markdown",
   "metadata": {},
   "source": [
    "Lets consider a W decaying into an electron and neutrino. Represent this process schematically with $W\\rightarrow A\\bar{B}$ with the bar being hidden.\n",
    "\n",
    "In general, each of these has an associated 4-momentum:\n",
    "* $W^\\mu = (E_W, \\vec{p_W})$\n",
    "* $A^\\mu = (E_A, \\vec{p_A})$\n",
    "* $\\bar{B}^\\mu = (E_\\bar{B}, \\vec{p_\\bar{B}})$\n",
    "\n",
    "Without any constraints, this represents 12 free parameters.\n",
    "\n",
    "We can constrain some of them using energy-momentum conservation (4) and on-shell (3), yielding 5 remaining unconstrained parameters.\n",
    "\n",
    "If we impose that everything except the W is massless, our intitlal conditions become (using the on-shell condition):\n",
    "* $W^\\mu = (m_W, \\vec{0})$\n",
    "* $A^\\mu = (|\\vec{p_A}|, \\vec{p_A})$\n",
    "* $\\bar{B}^\\mu = (|\\vec{p_\\bar{B}}|, \\vec{p_\\bar{B}})$\n",
    "\n",
    "If we further impose energy-momentum conservation, we have:\n",
    "* $W^\\mu = (m_W, \\vec{0})$\n",
    "* $A^\\mu = (\\frac{1}{2}m_W, \\vec{p_A})$\n",
    "* $\\bar{B}^\\mu = (\\frac{1}{2}m_W, -\\vec{p_A})$\n",
    "\n",
    "and we see that the maximum energy of the lepton A can be $E_A = |\\vec{p_A}| = \\frac{1}{2}m_W$.\n",
    "\n",
    "In terms of the computation, this relation defines how we generate the training data.\n",
    "$$ \\sqrt{p_x^2 + p_y^2 + p_z^2} = \\frac{1}{2}m_W $$\n",
    "\n",
    "Once we choose two components, the third is fixed by this condition.\n",
    "\n",
    "$$ p_z = \\left[ \\frac{1}{4}m_W^2 - p_x^2 - p_y^2 \\right]^{\\frac{1}{2}} $$\n",
    "\n",
    "__________________________\n",
    "\n",
    "After talking with Flip, another formulation to do this is the following:\n",
    "In the rest frame of the W, assume isotropic decay\n",
    "\n",
    "1. Choose a random number between in $[-1,1]$ for $\\cos\\theta$ and another random number in $[0,2\\pi]$ for $\\phi$.\n",
    "2. Give it a maginitude of $\\frac{1}{2}m_W$\n",
    "3. Promote this to a unit vector using on-shell\n",
    "\n"
   ]
  },
  {
   "cell_type": "markdown",
   "metadata": {},
   "source": [
    "### Computing M_T"
   ]
  },
  {
   "cell_type": "markdown",
   "metadata": {},
   "source": [
    "From wiki:\n",
    "$$M_T^2 = m^2 + p_x^2 + p_y^2$$"
   ]
  },
  {
   "cell_type": "markdown",
   "metadata": {},
   "source": [
    "### Computing the Lorentz Boost"
   ]
  },
  {
   "cell_type": "markdown",
   "metadata": {},
   "source": [
    "From the second paragraph, last sentence of [this paper](https://arxiv.org/abs/2112.11266), the parton energy fractions (parton z momentum / proton z momentum) range from $10^{-5} - 10^0$. All in one statement, $$10^{-5} < \\frac{p_z}{p} \\sim \\frac{T}{E} < 10^0$$\n",
    "\n",
    "The kinetic energy $T$ is related to the beam energy $E$ by:\n",
    "$$\\gamma = 1+\\frac{T}{E}$$, where we are obtain the  ratio $\\frac{T}{E}$ from a Gaussian distribution centered at the midpoint $10^{-2.5}$ with variance (arbitrarily chosen by me) of $10^{-1}$.\n",
    "\n",
    "Given gamma, beta is found by inverting the equation for gamma, yielding:\n",
    "$$ \\beta = \\sqrt{ 1-\\frac{1}{\\gamma^2} }$$\n",
    "\n",
    "The Lorentz boost is then computed as:\n",
    "\\begin{matrix} \n",
    "E' = \\gamma(E-\\beta p_z) \\\\\n",
    "p_z' = \\gamma(p_z - \\beta E)\n",
    "\\end{matrix}"
   ]
  },
  {
   "cell_type": "markdown",
   "metadata": {},
   "source": [
    "### The Algorithm"
   ]
  },
  {
   "cell_type": "markdown",
   "metadata": {},
   "source": [
    "We want to construct data for the visible decay product labeled \"A\" above\n",
    "\n",
    "1. Determine a random-direction 3-momentum vector. Pick a random direction in $(\\theta,\\phi)$, set $r = \\frac{1}{2}m_W$\n",
    "2. Compute the cartesian momentum. (Convert spherical to cartesian coordinates)\n",
    "3. Promote the 3-momentum to a 4-momentum using the on-shell relation\n",
    "3. Obtain the lorentz boost along the z-direction from the Gaussian distribution detailed above.\n",
    "4. Do the boost\n",
    "5. Compute $m_T^2$ as detailed above\n",
    "6. Record all values in dataframe\n"
   ]
  },
  {
   "cell_type": "markdown",
   "metadata": {},
   "source": [
    "## Generate The Data"
   ]
  },
  {
   "cell_type": "code",
   "execution_count": 9,
   "metadata": {
    "ExecuteTime": {
     "end_time": "2022-09-15T01:11:06.326748Z",
     "start_time": "2022-09-15T01:11:02.159206Z"
    }
   },
   "outputs": [],
   "source": [
    "import numpy as np\n",
    "import pandas as pd\n",
    "from tensorflow import keras\n",
    "\n",
    "\n",
    "import matplotlib.pyplot as plt\n",
    "from sklearn.model_selection import train_test_split\n",
    "from sklearn.preprocessing import StandardScaler"
   ]
  },
  {
   "cell_type": "code",
   "execution_count": 11,
   "metadata": {
    "ExecuteTime": {
     "end_time": "2022-09-15T01:14:26.474988Z",
     "start_time": "2022-09-15T01:14:00.904741Z"
    }
   },
   "outputs": [
    {
     "name": "stdout",
     "output_type": "stream",
     "text": [
      "           E         Px         Py         Pz    zBoost           E2  \\\n",
      "0  27.094835  -4.835308  26.646214   0.853909  1.443489   734.130083   \n",
      "1  93.056019 -13.599311  22.332121 -89.307098  1.490238  8659.422664   \n",
      "2  20.031061  15.126378  -8.875120   9.678240  1.473808   401.243400   \n",
      "3  99.388874  -6.194282   9.333720 -98.755561  1.461520  9878.148311   \n",
      "4  55.645058   0.419815 -39.944690 -38.737810  1.444846  3096.372456   \n",
      "\n",
      "          Px2          Py2          Pz2    mW    mTSquared  \n",
      "0   23.380202   710.020720     0.729161  80.0  7133.400922  \n",
      "1  184.941265   498.723635  7975.757764  80.0  7083.664900  \n",
      "2  228.807313    78.767749    93.668339  80.0  6707.575061  \n",
      "3   38.369129    87.118320  9752.660861  80.0  6525.487449  \n",
      "4    0.176245  1595.578261  1500.617950  80.0  7995.754506  \n"
     ]
    }
   ],
   "source": [
    "def makeData(numData,mW = 80,zBoost = False):\n",
    "    columns = ['E','Px','Py','Pz','zBoost','E2','Px2','Py2','Pz2','mW','mTSquared']\n",
    "    dataVect = []\n",
    "    for i in range(0,numData):\n",
    "        theta = np.random.uniform(0,np.pi)\n",
    "        phi   = np.random.uniform(0,2*np.pi)\n",
    "        r     = 1/2*mW\n",
    "        \n",
    "        \n",
    "        px0 = r*np.sin(theta)*np.cos(phi)\n",
    "        py0 = r*np.sin(theta)*np.sin(phi)\n",
    "        pz0 = r*np.cos(theta)\n",
    "        E0  = 1/2*mW\n",
    "\n",
    "        \n",
    "        if zBoost:\n",
    "            gammaMin = 1+1e-5\n",
    "            gammaMax = 2\n",
    "            gamma = np.random.normal((gammaMin+gammaMax)/2,0.1)\n",
    "            beta = np.sqrt(1-(1/gamma**2))\n",
    "        \n",
    "        else:\n",
    "            gamma = 1\n",
    "            beta = 0\n",
    "        \n",
    "        E  = gamma*(E0 - beta*pz0)       \n",
    "        px = px0\n",
    "        py = py0\n",
    "        pz = gamma*(pz0 - beta*E0)\n",
    "        \n",
    "        E2 = E**2\n",
    "        px2,py2,pz2 = px**2,py**2,pz**2\n",
    "#         mTSquared = (mW)**2\n",
    "#         mTSquared = 2*(1/2*mW)**2 + 2*(px**2 + py**2)\n",
    "        mTSquared = mW**2 + px**2 + py**2\n",
    "#         mTSquared = E**2 - pz**2\n",
    "#         print (mTSquared1,mTSquared2,mTSquared3)\n",
    "        dataEntry = np.asarray([E,px,py,pz,gamma,E2,px2,py2,pz2,mW,mTSquared])\n",
    "        dataVect.append(dataEntry)\n",
    "        dataSet = pd.DataFrame(dataVect,columns = columns)\n",
    "    return dataSet\n",
    "\n",
    "rawData = (makeData(1000, zBoost = True))\n",
    "\n",
    "print (rawData.head(5))"
   ]
  },
  {
   "cell_type": "markdown",
   "metadata": {},
   "source": [
    "### Boost Histogram"
   ]
  },
  {
   "cell_type": "code",
   "execution_count": 12,
   "metadata": {
    "ExecuteTime": {
     "end_time": "2022-09-15T01:16:36.351626Z",
     "start_time": "2022-09-15T01:16:28.441187Z"
    }
   },
   "outputs": [
    {
     "data": {
      "image/png": "[encoded data removed]",
      "text/plain": [
       "<Figure size 432x288 with 1 Axes>"
      ]
     },
     "metadata": {
      "needs_background": "light"
     },
     "output_type": "display_data"
    }
   ],
   "source": [
    "plt.hist(rawData.zBoost)\n",
    "plt.suptitle(r'Boost Factor $(\\gamma)$ Histogram', size = 18)\n",
    "plt.xlabel(r'$\\gamma$',size = 16)\n",
    "plt.show()"
   ]
  },
  {
   "cell_type": "markdown",
   "metadata": {},
   "source": [
    "## Split it into testing and training"
   ]
  },
  {
   "cell_type": "code",
   "execution_count": 13,
   "metadata": {
    "ExecuteTime": {
     "end_time": "2022-09-15T01:17:46.821873Z",
     "start_time": "2022-09-15T01:17:46.733366Z"
    }
   },
   "outputs": [
    {
     "name": "stdout",
     "output_type": "stream",
     "text": [
      "Complete\n"
     ]
    }
   ],
   "source": [
    "dataInput1 = rawData[['E','Px','Py','Pz']]\n",
    "dataInput2 = rawData[['E2','Px2','Py2','Pz2']]\n",
    "features1  = rawData[['mW']]\n",
    "features2  = rawData[['mTSquared']]\n",
    "\n",
    "X1 = dataInput1\n",
    "X2 = dataInput2\n",
    "y1 = features1\n",
    "y2 = features2\n",
    "\n",
    "X_train1, X_test1, y_train1, y_test1 = train_test_split(X1, y1, test_size=0.1)\n",
    "X_train2, X_test2, y_train1, y_test1 = train_test_split(X2, y1, test_size=0.1)\n",
    "X_train1, X_test1, y_train2, y_test2 = train_test_split(X1, y2, test_size=0.1)\n",
    "X_train2, X_test2, y_train2, y_test2 = train_test_split(X2, y2, test_size=0.1)\n",
    "\n",
    "\n",
    "print ('Complete')"
   ]
  },
  {
   "cell_type": "markdown",
   "metadata": {},
   "source": [
    "## Train The Neural Net"
   ]
  },
  {
   "cell_type": "code",
   "execution_count": 14,
   "metadata": {
    "ExecuteTime": {
     "end_time": "2022-09-15T01:19:40.578809Z",
     "start_time": "2022-09-15T01:18:56.678290Z"
    }
   },
   "outputs": [
    {
     "name": "stdout",
     "output_type": "stream",
     "text": [
      "Epoch 1/15\n",
      "29/29 - 6s - loss: 7303.7432 - accuracy: 0.0000e+00 - 6s/epoch - 206ms/step\n",
      "Epoch 2/15\n",
      "29/29 - 0s - loss: 6583.3203 - accuracy: 0.0000e+00 - 236ms/epoch - 8ms/step\n",
      "Epoch 3/15\n",
      "29/29 - 0s - loss: 5901.2656 - accuracy: 0.0000e+00 - 233ms/epoch - 8ms/step\n",
      "Epoch 4/15\n",
      "29/29 - 0s - loss: 5067.2144 - accuracy: 0.0000e+00 - 258ms/epoch - 9ms/step\n",
      "Epoch 5/15\n",
      "29/29 - 0s - loss: 4155.1909 - accuracy: 0.0000e+00 - 267ms/epoch - 9ms/step\n",
      "Epoch 6/15\n",
      "29/29 - 0s - loss: 3393.7798 - accuracy: 0.0000e+00 - 328ms/epoch - 11ms/step\n",
      "Epoch 7/15\n",
      "29/29 - 0s - loss: 2981.0994 - accuracy: 0.0000e+00 - 149ms/epoch - 5ms/step\n",
      "Epoch 8/15\n",
      "29/29 - 0s - loss: 2819.5068 - accuracy: 0.0000e+00 - 216ms/epoch - 7ms/step\n",
      "Epoch 9/15\n",
      "29/29 - 0s - loss: 2729.9941 - accuracy: 0.0000e+00 - 277ms/epoch - 10ms/step\n",
      "Epoch 10/15\n",
      "29/29 - 0s - loss: 2650.4028 - accuracy: 0.0000e+00 - 281ms/epoch - 10ms/step\n",
      "Epoch 11/15\n",
      "29/29 - 0s - loss: 2576.0059 - accuracy: 0.0000e+00 - 355ms/epoch - 12ms/step\n",
      "Epoch 12/15\n",
      "29/29 - 0s - loss: 2501.9106 - accuracy: 0.0000e+00 - 336ms/epoch - 12ms/step\n",
      "Epoch 13/15\n",
      "29/29 - 0s - loss: 2432.6655 - accuracy: 0.0000e+00 - 304ms/epoch - 10ms/step\n",
      "Epoch 14/15\n",
      "29/29 - 0s - loss: 2363.6831 - accuracy: 0.0000e+00 - 320ms/epoch - 11ms/step\n",
      "Epoch 15/15\n",
      "29/29 - 0s - loss: 2299.3179 - accuracy: 0.0000e+00 - 283ms/epoch - 10ms/step\n",
      "--------------\n",
      "Epoch 1/15\n",
      "29/29 - 4s - loss: 70798.5859 - accuracy: 0.0000e+00 - 4s/epoch - 148ms/step\n",
      "Epoch 2/15\n",
      "29/29 - 0s - loss: 16818.6465 - accuracy: 0.0000e+00 - 458ms/epoch - 16ms/step\n",
      "Epoch 3/15\n",
      "29/29 - 0s - loss: 11967.1289 - accuracy: 0.0000e+00 - 374ms/epoch - 13ms/step\n",
      "Epoch 4/15\n",
      "29/29 - 0s - loss: 9270.2090 - accuracy: 0.0000e+00 - 332ms/epoch - 11ms/step\n",
      "Epoch 5/15\n",
      "29/29 - 0s - loss: 7373.0796 - accuracy: 0.0000e+00 - 471ms/epoch - 16ms/step\n",
      "Epoch 6/15\n",
      "29/29 - 0s - loss: 6122.4307 - accuracy: 0.0000e+00 - 303ms/epoch - 10ms/step\n",
      "Epoch 7/15\n",
      "29/29 - 0s - loss: 5239.5225 - accuracy: 0.0000e+00 - 250ms/epoch - 9ms/step\n",
      "Epoch 8/15\n",
      "29/29 - 0s - loss: 4559.9385 - accuracy: 0.0000e+00 - 243ms/epoch - 8ms/step\n",
      "Epoch 9/15\n",
      "29/29 - 0s - loss: 4031.0044 - accuracy: 0.0000e+00 - 430ms/epoch - 15ms/step\n",
      "Epoch 10/15\n",
      "29/29 - 0s - loss: 3588.9429 - accuracy: 0.0000e+00 - 294ms/epoch - 10ms/step\n",
      "Epoch 11/15\n",
      "29/29 - 0s - loss: 3233.9941 - accuracy: 0.0000e+00 - 247ms/epoch - 9ms/step\n",
      "Epoch 12/15\n",
      "29/29 - 0s - loss: 2929.5942 - accuracy: 0.0000e+00 - 176ms/epoch - 6ms/step\n",
      "Epoch 13/15\n",
      "29/29 - 0s - loss: 2704.7856 - accuracy: 0.0000e+00 - 325ms/epoch - 11ms/step\n",
      "Epoch 14/15\n",
      "29/29 - 0s - loss: 2504.2800 - accuracy: 0.0000e+00 - 331ms/epoch - 11ms/step\n",
      "Epoch 15/15\n",
      "29/29 - 0s - loss: 2338.9685 - accuracy: 0.0000e+00 - 234ms/epoch - 8ms/step\n",
      "--------------\n",
      "Epoch 1/15\n",
      "29/29 - 6s - loss: 51565284.0000 - accuracy: 0.0000e+00 - 6s/epoch - 209ms/step\n",
      "Epoch 2/15\n",
      "29/29 - 0s - loss: 51358364.0000 - accuracy: 0.0000e+00 - 376ms/epoch - 13ms/step\n",
      "Epoch 3/15\n",
      "29/29 - 0s - loss: 51097592.0000 - accuracy: 0.0000e+00 - 356ms/epoch - 12ms/step\n",
      "Epoch 4/15\n",
      "29/29 - 0s - loss: 50768564.0000 - accuracy: 0.0000e+00 - 383ms/epoch - 13ms/step\n",
      "Epoch 5/15\n",
      "29/29 - 0s - loss: 50360656.0000 - accuracy: 0.0000e+00 - 283ms/epoch - 10ms/step\n",
      "Epoch 6/15\n",
      "29/29 - 0s - loss: 49853068.0000 - accuracy: 0.0000e+00 - 136ms/epoch - 5ms/step\n",
      "Epoch 7/15\n",
      "29/29 - 0s - loss: 49217712.0000 - accuracy: 0.0000e+00 - 342ms/epoch - 12ms/step\n",
      "Epoch 8/15\n",
      "29/29 - 0s - loss: 48423816.0000 - accuracy: 0.0000e+00 - 369ms/epoch - 13ms/step\n",
      "Epoch 9/15\n",
      "29/29 - 0s - loss: 47480676.0000 - accuracy: 0.0000e+00 - 284ms/epoch - 10ms/step\n",
      "Epoch 10/15\n",
      "29/29 - 0s - loss: 46384828.0000 - accuracy: 0.0000e+00 - 347ms/epoch - 12ms/step\n",
      "Epoch 11/15\n",
      "29/29 - 0s - loss: 45138936.0000 - accuracy: 0.0000e+00 - 287ms/epoch - 10ms/step\n",
      "Epoch 12/15\n",
      "29/29 - 0s - loss: 43745612.0000 - accuracy: 0.0000e+00 - 185ms/epoch - 6ms/step\n",
      "Epoch 13/15\n",
      "29/29 - 0s - loss: 42202640.0000 - accuracy: 0.0000e+00 - 192ms/epoch - 7ms/step\n",
      "Epoch 14/15\n",
      "29/29 - 0s - loss: 40544816.0000 - accuracy: 0.0000e+00 - 407ms/epoch - 14ms/step\n",
      "Epoch 15/15\n",
      "29/29 - 0s - loss: 38761552.0000 - accuracy: 0.0000e+00 - 268ms/epoch - 9ms/step\n",
      "--------------\n",
      "Epoch 1/15\n",
      "29/29 - 5s - loss: 48670596.0000 - accuracy: 0.0000e+00 - 5s/epoch - 155ms/step\n",
      "Epoch 2/15\n",
      "29/29 - 0s - loss: 45579664.0000 - accuracy: 0.0000e+00 - 246ms/epoch - 8ms/step\n",
      "Epoch 3/15\n",
      "29/29 - 0s - loss: 41235932.0000 - accuracy: 0.0000e+00 - 324ms/epoch - 11ms/step\n",
      "Epoch 4/15\n",
      "29/29 - 0s - loss: 36325448.0000 - accuracy: 0.0000e+00 - 419ms/epoch - 14ms/step\n",
      "Epoch 5/15\n",
      "29/29 - 0s - loss: 31723998.0000 - accuracy: 0.0000e+00 - 276ms/epoch - 10ms/step\n",
      "Epoch 6/15\n",
      "29/29 - 0s - loss: 28495840.0000 - accuracy: 0.0000e+00 - 397ms/epoch - 14ms/step\n",
      "Epoch 7/15\n",
      "29/29 - 0s - loss: 26765448.0000 - accuracy: 0.0000e+00 - 355ms/epoch - 12ms/step\n",
      "Epoch 8/15\n",
      "29/29 - 0s - loss: 25981022.0000 - accuracy: 0.0000e+00 - 352ms/epoch - 12ms/step\n",
      "Epoch 9/15\n",
      "29/29 - 0s - loss: 25527126.0000 - accuracy: 0.0000e+00 - 249ms/epoch - 9ms/step\n",
      "Epoch 10/15\n",
      "29/29 - 0s - loss: 25131584.0000 - accuracy: 0.0000e+00 - 296ms/epoch - 10ms/step\n",
      "Epoch 11/15\n",
      "29/29 - 0s - loss: 24760488.0000 - accuracy: 0.0000e+00 - 367ms/epoch - 13ms/step\n",
      "Epoch 12/15\n",
      "29/29 - 0s - loss: 24384138.0000 - accuracy: 0.0000e+00 - 335ms/epoch - 12ms/step\n",
      "Epoch 13/15\n",
      "29/29 - 0s - loss: 24011030.0000 - accuracy: 0.0000e+00 - 292ms/epoch - 10ms/step\n",
      "Epoch 14/15\n",
      "29/29 - 0s - loss: 23629004.0000 - accuracy: 0.0000e+00 - 416ms/epoch - 14ms/step\n",
      "Epoch 15/15\n",
      "29/29 - 0s - loss: 23242742.0000 - accuracy: 0.0000e+00 - 334ms/epoch - 12ms/step\n",
      "Complete\n"
     ]
    }
   ],
   "source": [
    "model1 = keras.Sequential()\n",
    "model1.add(keras.layers.Dense(4,input_dim = 4,activation = 'relu'))\n",
    "model1.add(keras.layers.Dense(4))\n",
    "model1.add(keras.layers.Dense(1))\n",
    "model1.compile(loss='mean_squared_error', optimizer='adam', metrics = ['accuracy'])\n",
    "history1 = model1.fit(X_train1, y_train1,verbose = 2, epochs=15, batch_size=32, shuffle = True)\n",
    "print ('--------------')\n",
    "\n",
    "model2 = keras.Sequential()\n",
    "model2.add(keras.layers.Dense(4,input_dim = 4,activation = 'relu'))\n",
    "model2.add(keras.layers.Dense(4))\n",
    "model2.add(keras.layers.Dense(1))\n",
    "model2.compile(loss='mean_squared_error', optimizer='adam', metrics = ['accuracy'])\n",
    "history2 = model2.fit(X_train2, y_train1,verbose = 2, epochs=15, batch_size=32, shuffle = True)\n",
    "print ('--------------')\n",
    "\n",
    "model3 = keras.Sequential()\n",
    "model3.add(keras.layers.Dense(4,input_dim = 4,activation = 'relu'))\n",
    "model3.add(keras.layers.Dense(4))\n",
    "model3.add(keras.layers.Dense(1))\n",
    "model3.compile(loss='mean_squared_error', optimizer='adam', metrics = ['accuracy'])\n",
    "history3 = model3.fit(X_train1, y_train2,verbose = 2, epochs=15, batch_size=32, shuffle = True)\n",
    "print ('--------------')\n",
    "\n",
    "model4 = keras.Sequential()\n",
    "model4.add(keras.layers.Dense(4,input_dim = 4,activation = 'relu'))\n",
    "model4.add(keras.layers.Dense(4))\n",
    "model4.add(keras.layers.Dense(1))\n",
    "model4.compile(loss='mean_squared_error', optimizer='adam', metrics = ['accuracy'])\n",
    "history4 = model4.fit(X_train2, y_train2,verbose = 2, epochs=15, batch_size=32, shuffle = True)\n",
    "\n",
    "\n",
    "print ('Complete')"
   ]
  },
  {
   "cell_type": "markdown",
   "metadata": {},
   "source": [
    "### Plot Training History"
   ]
  },
  {
   "cell_type": "code",
   "execution_count": 15,
   "metadata": {
    "ExecuteTime": {
     "end_time": "2022-09-15T01:19:53.298389Z",
     "start_time": "2022-09-15T01:19:48.232301Z"
    }
   },
   "outputs": [
    {
     "name": "stdout",
     "output_type": "stream",
     "text": [
      "dict_keys(['loss', 'accuracy'])\n"
     ]
    },
    {
     "data": {
      "text/plain": [
       "<matplotlib.legend.Legend at 0x1d7d2dba310>"
      ]
     },
     "execution_count": 15,
     "metadata": {},
     "output_type": "execute_result"
    },
    {
     "data": {
      "image/png": "[encoded data removed]",
      "text/plain": [
       "<Figure size 864x576 with 4 Axes>"
      ]
     },
     "metadata": {
      "needs_background": "light"
     },
     "output_type": "display_data"
    }
   ],
   "source": [
    "print (history1.history.keys())\n",
    "epochRange = range(0,len(history1.history['loss']))\n",
    "\n",
    "fig1, axs1 = plt.subplots(2, 2, figsize = (12,8))\n",
    "\n",
    "axs1[0,0].scatter(epochRange,(history1.history['loss']),label = 'Loss')\n",
    "axs1[0,0].scatter(epochRange,(history1.history['accuracy']),label = 'Accuracy')\n",
    "axs1[0,0].legend(loc = 'upper right')\n",
    "\n",
    "axs1[0,1].scatter(epochRange,(history2.history['loss']),label = 'Loss')\n",
    "axs1[0,1].scatter(epochRange,(history2.history['accuracy']),label = 'Accuracy')\n",
    "axs1[0,1].legend(loc = 'upper right')\n",
    "\n",
    "axs1[1,0].scatter(epochRange,(history3.history['loss']),label = 'Loss')\n",
    "axs1[1,0].scatter(epochRange,(history3.history['accuracy']),label = 'Accuracy')\n",
    "axs1[1,0].legend(loc = 'upper right')\n",
    "\n",
    "axs1[1,1].scatter(epochRange,(history4.history['loss']),label = 'Loss')\n",
    "axs1[1,1].scatter(epochRange,(history4.history['accuracy']),label = 'Accuracy')\n",
    "axs1[1,1].legend(loc = 'upper right')\n"
   ]
  },
  {
   "cell_type": "markdown",
   "metadata": {},
   "source": [
    "I think there is something about plotting these with the same bin sizes or something. We want 10 bins for each, but they are currently being plotted with the same absolute bin size, so one graph looks normal and the other has an effective bin size that is way too small."
   ]
  },
  {
   "cell_type": "code",
   "execution_count": 16,
   "metadata": {
    "ExecuteTime": {
     "end_time": "2022-09-15T01:20:47.533766Z",
     "start_time": "2022-09-15T01:20:37.029846Z"
    }
   },
   "outputs": [
    {
     "data": {
      "image/png": "[encoded data removed]",
      "text/plain": [
       "<Figure size 864x576 with 4 Axes>"
      ]
     },
     "metadata": {
      "needs_background": "light"
     },
     "output_type": "display_data"
    }
   ],
   "source": [
    "pre1 = model1.predict(X_test1)\n",
    "pre2 = model2.predict(X_test1)\n",
    "pre3 = model3.predict(X_test2)\n",
    "pre4 = model4.predict(X_test2)\n",
    "actual1      = y_test1.mW\n",
    "actual2      = y_test1.mW\n",
    "actual3      = y_test2.mTSquared\n",
    "actual4      = y_test2.mTSquared\n",
    "\n",
    "fig2, axs2 = plt.subplots(2, 2, figsize = (12,8))\n",
    "# fig.tight_layout() # Or equivalently,  \"plt.tight_layout()\"\n",
    "axs2[0,0].hist(pre1,label = 'predition')\n",
    "axs2[0,0].hist(actual1,label = 'truth',alpha = 0.5)\n",
    "axs2[0,1].hist(pre2,label = 'prediction')\n",
    "axs2[0,1].hist(actual2,label = 'truth',alpha = 0.5)\n",
    "axs2[1,0].hist(pre3,label = 'prediction')\n",
    "axs2[1,0].hist(actual3, label = 'truth', alpha = 0.5)\n",
    "axs2[1,1].hist(pre4,label = 'prediction')\n",
    "axs2[1,1].hist(actual4, label = 'truth', alpha = 0.5)\n",
    "axs2[0,0].legend(loc = 'upper right')\n",
    "axs2[0,1].legend(loc = 'upper right')\n",
    "axs2[1,0].legend(loc = 'upper right')\n",
    "axs2[1,1].legend(loc = 'upper right')\n",
    "\n",
    "# axs2[1,1].set_ylim([-0.1,10])\n",
    "\n",
    "axs2[0,0].set_xlabel('{0}'.format(features1.columns.values))\n",
    "axs2[0,1].set_xlabel('{0}'.format(features1.columns.values))\n",
    "axs2[1,0].set_xlabel('{0}'.format(features2.columns.values))\n",
    "axs2[1,1].set_xlabel('{0}'.format(features2.columns.values))\n",
    "\n",
    "axs2[0,0].set_title('{0}'.format(dataInput1.columns.values))\n",
    "axs2[0,1].set_title('{0}'.format(dataInput2.columns.values))\n",
    "axs2[1,0].set_title('{0}'.format(dataInput1.columns.values))\n",
    "axs2[1,1].set_title('{0}'.format(dataInput2.columns.values))\n",
    "\n",
    "plt.subplots_adjust(wspace=0.282, hspace=0.282)\n",
    "plt.show()"
   ]
  },
  {
   "cell_type": "code",
   "execution_count": null,
   "metadata": {},
   "outputs": [],
   "source": []
  },
  {
   "cell_type": "code",
   "execution_count": null,
   "metadata": {},
   "outputs": [],
   "source": []
  },
  {
   "cell_type": "code",
   "execution_count": null,
   "metadata": {},
   "outputs": [],
   "source": []
  }
 ],
 "metadata": {
  "kernelspec": {
   "display_name": "Python 3",
   "language": "python",
   "name": "python3"
  },
  "language_info": {
   "codemirror_mode": {
    "name": "ipython",
    "version": 3
   },
   "file_extension": ".py",
   "mimetype": "text/x-python",
   "name": "python",
   "nbconvert_exporter": "python",
   "pygments_lexer": "ipython3",
   "version": "3.8.3"
  },
  "latex_envs": {
   "LaTeX_envs_menu_present": true,
   "autoclose": false,
   "autocomplete": true,
   "bibliofile": "biblio.bib",
   "cite_by": "apalike",
   "current_citInitial": 1,
   "eqLabelWithNumbers": true,
   "eqNumInitial": 1,
   "hotkeys": {
    "equation": "Ctrl-E",
    "itemize": "Ctrl-I"
   },
   "labels_anchors": false,
   "latex_user_defs": false,
   "report_style_numbering": false,
   "user_envs_cfg": false
  },
  "toc": {
   "base_numbering": 1,
   "nav_menu": {},
   "number_sections": true,
   "sideBar": true,
   "skip_h1_title": false,
   "title_cell": "Table of Contents",
   "title_sidebar": "Contents",
   "toc_cell": false,
   "toc_position": {},
   "toc_section_display": true,
   "toc_window_display": false
  },
  "varInspector": {
   "cols": {
    "lenName": 16,
    "lenType": 16,
    "lenVar": 40
   },
   "kernels_config": {
    "python": {
     "delete_cmd_postfix": "",
     "delete_cmd_prefix": "del ",
     "library": "var_list.py",
     "varRefreshCmd": "print(var_dic_list())"
    },
    "r": {
     "delete_cmd_postfix": ") ",
     "delete_cmd_prefix": "rm(",
     "library": "var_list.r",
     "varRefreshCmd": "cat(var_dic_list()) "
    }
   },
   "types_to_exclude": [
    "module",
    "function",
    "builtin_function_or_method",
    "instance",
    "_Feature"
   ],
   "window_display": false
  }
 },
 "nbformat": 4,
 "nbformat_minor": 4
}
